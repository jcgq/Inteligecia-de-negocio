{
 "cells": [
  {
   "cell_type": "code",
   "execution_count": 1,
   "metadata": {},
   "outputs": [],
   "source": [
    "import pandas as pd\n",
    "import numpy as np\n",
    "import time\n",
    "import seaborn as sns\n",
    "import matplotlib.pyplot as plt\n",
    "from sklearn import preprocessing as pp\n",
    "from sklearn.model_selection import StratifiedKFold\n",
    "from sklearn.metrics import accuracy_score\n",
    "from sklearn import preprocessing\n",
    "import xgboost as xgb\n",
    "from sklearn.ensemble import BaggingClassifier\n",
    "import lightgbm as lgb\n",
    "from sklearn.naive_bayes import GaussianNB\n",
    "from sklearn import preprocessing as pp\n",
    "from sklearn.neighbors import KNeighborsClassifier\n",
    "from sklearn import tree\n",
    "from sklearn.model_selection import cross_val_score\n",
    "from sklearn.model_selection import cross_val_predict\n",
    "from statistics import mode\n",
    "from sklearn.model_selection import cross_val_score, cross_validate, train_test_split\n",
    "from sklearn.ensemble import RandomForestClassifier\n",
    "from sklearn.neighbors import KNeighborsClassifier\n",
    "import xgboost as xgb\n",
    "import lightgbm as lgb\n",
    "\n",
    "#Todas las librerías para los distintos algoritmos\n",
    "from sklearn.naive_bayes import GaussianNB\n",
    "from sklearn.naive_bayes import ComplementNB\n",
    "from sklearn.naive_bayes import BernoulliNB\n",
    "from sklearn.naive_bayes import MultinomialNB\n",
    "from sklearn.calibration import CalibratedClassifierCV\n",
    "from sklearn.svm import LinearSVC\n",
    "from sklearn.svm import OneClassSVM\n",
    "from sklearn.svm import SVC\n",
    "from sklearn.svm import NuSVC\n",
    "from sklearn.ensemble import RandomForestClassifier\n",
    "from sklearn.neighbors import KNeighborsClassifier\n",
    "import matplotlib.pyplot as plt\n",
    "import sklearn.metrics as metrics\n",
    "from sklearn.neural_network import MLPClassifier\n",
    "from sklearn.ensemble import BaggingClassifier\n",
    "import statistics\n",
    "from sklearn.preprocessing import LabelEncoder\n",
    "\n",
    "from sklearn.metrics import confusion_matrix\n",
    "from sklearn.metrics import classification_report\n",
    "from sklearn.model_selection import train_test_split\n",
    "from sklearn.linear_model import LogisticRegression\n",
    "from sklearn.decomposition import PCA\n",
    "from sklearn.tree import DecisionTreeClassifier\n",
    "from sklearn.ensemble import RandomForestClassifier\n",
    "from sklearn.pipeline import make_pipeline\n",
    "from sklearn.preprocessing import StandardScaler\n",
    "import warnings\n",
    "from mlxtend.classifier import StackingClassifier\n",
    "from mlxtend.classifier import StackingCVClassifier\n",
    "from sklearn.neural_network import MLPClassifier\n",
    "from sklearn.ensemble import GradientBoostingClassifier\n",
    "from pylab import rcParams\n",
    " \n",
    "from collections import Counter\n",
    "\n",
    "warnings.simplefilter('ignore')\n"
   ]
  },
  {
   "cell_type": "code",
   "execution_count": 23,
   "metadata": {},
   "outputs": [],
   "source": [
    "data_train= pd.read_csv(\"./datos/train.csv\",na_values=[\"?\"])\n",
    "data_test= pd.read_csv(\"./datos/test.csv\",na_values=[\"?\"])\n",
    "data_trainCopia = data_train.copy()\n",
    "data_testCopia = data_test.copy()\n",
    "Nombre = LabelEncoder().fit(pd.read_csv(\"./datos/nombre.csv\").Nombre)\n",
    "Año = LabelEncoder().fit(pd.read_csv(\"./datos/ao.csv\").Año)\n",
    "Ciudad = LabelEncoder().fit(pd.read_csv(\"./datos/ciudad.csv\").Ciudad)\n",
    "Combustible = LabelEncoder().fit(pd.read_csv(\"./datos/combustible.csv\").Combustible)\n",
    "Consumo = LabelEncoder().fit(pd.read_csv(\"./datos/consumo.csv\").Consumo)\n",
    "Descuento = LabelEncoder().fit(pd.read_csv(\"./datos/descuento.csv\").Descuento)\n",
    "Kilometros = LabelEncoder().fit(pd.read_csv(\"./datos/kilometros.csv\").Kilometros)\n",
    "Mano = LabelEncoder().fit(pd.read_csv(\"./datos/mano.csv\").Mano)\n",
    "Potencia = LabelEncoder().fit(pd.read_csv(\"./datos/potencia.csv\").Potencia)\n",
    "Asientos = LabelEncoder().fit(pd.read_csv(\"./datos/asientos.csv\").Asientos)\n",
    "Motor_CC=LabelEncoder().fit(pd.read_csv(\"./datos/motor_cc.csv\").Motor_CC)\n",
    "Tipo_marchas=LabelEncoder().fit(pd.read_csv(\"./datos/Tipo_marchas.csv\").Tipo_marchas)\n",
    "\n",
    "data_trainCopia['Nombre']=data_trainCopia['Nombre'].fillna(mode(data_trainCopia['Nombre']))\n",
    "data_trainCopia['Año']=data_trainCopia['Año'].fillna(mode(data_trainCopia['Año']))\n",
    "data_trainCopia['Ciudad']=data_trainCopia['Ciudad'].fillna(mode(data_trainCopia['Ciudad']))\n",
    "#data_trainCopia['Kilometros']=data_trainCopia['Kilometros'].fillna(mode(data_trainCopia['Kilometros']))\n",
    "data_trainCopia['Combustible']=data_trainCopia['Combustible'].fillna(mode(data_trainCopia['Combustible']))\n",
    "data_trainCopia['Tipo_marchas']=data_trainCopia['Tipo_marchas'].fillna(mode(data_trainCopia['Tipo_marchas']))\n",
    "#data_trainCopia['Mano']=data_trainCopia['Mano'].fillna(mode(data_trainCopia['Mano']))\n",
    "data_trainCopia['Consumo']=data_trainCopia['Consumo'].fillna(mode(data_trainCopia['Consumo']))\n",
    "data_trainCopia['Motor_CC']=data_trainCopia['Motor_CC'].fillna(mode(data_trainCopia['Motor_CC']))\n",
    "data_trainCopia['Potencia']=data_trainCopia['Potencia'].fillna(mode(data_trainCopia['Potencia']))\n",
    "data_trainCopia['Asientos']=data_trainCopia['Asientos'].fillna(mode(data_trainCopia['Asientos']))\n",
    "data_trainCopia['Descuento']=data_trainCopia['Descuento'].fillna(mode(data_trainCopia['Descuento']))\n",
    "\n",
    "#Eliminamos las columnas que no necesitamos\n",
    "data_trainCopia=data_trainCopia.drop(['Descuento'], axis=1)\n",
    "data_trainCopia=data_trainCopia.drop(['id'], axis=1)\n",
    "data_trainCopia=data_trainCopia.drop(['Kilometros'], axis=1)\n",
    "data_testCopia=data_testCopia.drop(['Descuento'], axis=1)\n",
    "data_testCopia=data_testCopia.drop(['id'], axis=1)\n",
    "data_testCopia=data_testCopia.drop(['Kilometros'], axis=1)\n",
    "\n",
    "\n",
    "#Eliminamos los nan de los ids\n",
    "data_trainCopia=data_trainCopia.dropna() \n",
    "data_testCopia=data_testCopia.dropna() \n",
    "\n",
    "#Codificación de las filas\n",
    "data_trainCopia.Nombre = Nombre.transform(data_trainCopia.Nombre)\n",
    "data_trainCopia.Año = Año.transform(data_trainCopia.Año)\n",
    "data_trainCopia.Ciudad = Ciudad.transform(data_trainCopia.Ciudad)\n",
    "data_trainCopia.Combustible = Combustible.transform(data_trainCopia.Combustible)\n",
    "data_trainCopia.Potencia = Potencia.transform(data_trainCopia.Potencia)\n",
    "data_trainCopia.Consumo = Consumo.transform(data_trainCopia.Consumo)\n",
    "#data_trainCopia.Kilometros = Kilometros.transform(data_trainCopia.Kilometros)\n",
    "data_trainCopia.Mano = Mano.transform(data_trainCopia.Mano)\n",
    "data_trainCopia.Motor_CC = Motor_CC.transform(data_trainCopia.Motor_CC)\n",
    "data_trainCopia.Tipo_marchas = Tipo_marchas.transform(data_trainCopia.Tipo_marchas)\n",
    "data_trainCopia.Asientos = Asientos.transform(data_trainCopia.Asientos)\n",
    "#-------------------------------------------------------------------------------------------\n",
    "data_testCopia.Nombre = Nombre.transform(data_testCopia.Nombre)\n",
    "data_testCopia.Año = Año.transform(data_testCopia.Año)\n",
    "data_testCopia.Ciudad = Ciudad.transform(data_testCopia.Ciudad)\n",
    "data_testCopia.Combustible = Combustible.transform(data_testCopia.Combustible)\n",
    "data_testCopia.Potencia = Potencia.transform(data_testCopia.Potencia)\n",
    "data_testCopia.Consumo = Consumo.transform(data_testCopia.Consumo)\n",
    "#data_testCopia.Kilometros = Kilometros.transform(data_testCopia.Kilometros)\n",
    "data_testCopia.Mano = Mano.transform(data_testCopia.Mano)\n",
    "data_testCopia.Tipo_marchas = Tipo_marchas.transform(data_testCopia.Tipo_marchas)\n",
    "data_testCopia.Asientos = Asientos.transform(data_testCopia.Asientos)\n",
    "data_testCopia.Motor_CC = Motor_CC.transform(data_testCopia.Motor_CC)\n",
    "\n",
    "target = pd.read_csv('./datos/precio_cat.csv')\n",
    "target_train=data_trainCopia['Precio_cat']\n",
    "data_trainCopia=data_trainCopia.drop(['Precio_cat'], axis=1)"
   ]
  },
  {
   "cell_type": "code",
   "execution_count": 28,
   "metadata": {},
   "outputs": [
    {
     "data": {
      "text/html": [
       "<div>\n",
       "<style scoped>\n",
       "    .dataframe tbody tr th:only-of-type {\n",
       "        vertical-align: middle;\n",
       "    }\n",
       "\n",
       "    .dataframe tbody tr th {\n",
       "        vertical-align: top;\n",
       "    }\n",
       "\n",
       "    .dataframe thead th {\n",
       "        text-align: right;\n",
       "    }\n",
       "</style>\n",
       "<table border=\"1\" class=\"dataframe\">\n",
       "  <thead>\n",
       "    <tr style=\"text-align: right;\">\n",
       "      <th></th>\n",
       "      <th>Nombre</th>\n",
       "      <th>Ciudad</th>\n",
       "      <th>Año</th>\n",
       "      <th>Combustible</th>\n",
       "      <th>Tipo_marchas</th>\n",
       "      <th>Mano</th>\n",
       "      <th>Consumo</th>\n",
       "      <th>Motor_CC</th>\n",
       "      <th>Potencia</th>\n",
       "      <th>Asientos</th>\n",
       "    </tr>\n",
       "  </thead>\n",
       "  <tbody>\n",
       "    <tr>\n",
       "      <th>0</th>\n",
       "      <td>1318</td>\n",
       "      <td>6</td>\n",
       "      <td>17</td>\n",
       "      <td>1</td>\n",
       "      <td>0</td>\n",
       "      <td>0</td>\n",
       "      <td>257</td>\n",
       "      <td>70</td>\n",
       "      <td>119</td>\n",
       "      <td>3</td>\n",
       "    </tr>\n",
       "    <tr>\n",
       "      <th>1</th>\n",
       "      <td>695</td>\n",
       "      <td>8</td>\n",
       "      <td>13</td>\n",
       "      <td>4</td>\n",
       "      <td>1</td>\n",
       "      <td>0</td>\n",
       "      <td>274</td>\n",
       "      <td>2</td>\n",
       "      <td>284</td>\n",
       "      <td>3</td>\n",
       "    </tr>\n",
       "    <tr>\n",
       "      <th>2</th>\n",
       "      <td>326</td>\n",
       "      <td>1</td>\n",
       "      <td>12</td>\n",
       "      <td>1</td>\n",
       "      <td>1</td>\n",
       "      <td>2</td>\n",
       "      <td>279</td>\n",
       "      <td>26</td>\n",
       "      <td>283</td>\n",
       "      <td>3</td>\n",
       "    </tr>\n",
       "    <tr>\n",
       "      <th>3</th>\n",
       "      <td>1139</td>\n",
       "      <td>2</td>\n",
       "      <td>17</td>\n",
       "      <td>4</td>\n",
       "      <td>1</td>\n",
       "      <td>0</td>\n",
       "      <td>301</td>\n",
       "      <td>10</td>\n",
       "      <td>326</td>\n",
       "      <td>3</td>\n",
       "    </tr>\n",
       "    <tr>\n",
       "      <th>4</th>\n",
       "      <td>1093</td>\n",
       "      <td>8</td>\n",
       "      <td>12</td>\n",
       "      <td>4</td>\n",
       "      <td>1</td>\n",
       "      <td>2</td>\n",
       "      <td>308</td>\n",
       "      <td>10</td>\n",
       "      <td>334</td>\n",
       "      <td>3</td>\n",
       "    </tr>\n",
       "    <tr>\n",
       "      <th>...</th>\n",
       "      <td>...</td>\n",
       "      <td>...</td>\n",
       "      <td>...</td>\n",
       "      <td>...</td>\n",
       "      <td>...</td>\n",
       "      <td>...</td>\n",
       "      <td>...</td>\n",
       "      <td>...</td>\n",
       "      <td>...</td>\n",
       "      <td>...</td>\n",
       "    </tr>\n",
       "    <tr>\n",
       "      <th>1154</th>\n",
       "      <td>167</td>\n",
       "      <td>5</td>\n",
       "      <td>14</td>\n",
       "      <td>1</td>\n",
       "      <td>1</td>\n",
       "      <td>0</td>\n",
       "      <td>379</td>\n",
       "      <td>140</td>\n",
       "      <td>259</td>\n",
       "      <td>3</td>\n",
       "    </tr>\n",
       "    <tr>\n",
       "      <th>1155</th>\n",
       "      <td>645</td>\n",
       "      <td>9</td>\n",
       "      <td>12</td>\n",
       "      <td>1</td>\n",
       "      <td>1</td>\n",
       "      <td>0</td>\n",
       "      <td>177</td>\n",
       "      <td>33</td>\n",
       "      <td>27</td>\n",
       "      <td>3</td>\n",
       "    </tr>\n",
       "    <tr>\n",
       "      <th>1156</th>\n",
       "      <td>1235</td>\n",
       "      <td>8</td>\n",
       "      <td>15</td>\n",
       "      <td>1</td>\n",
       "      <td>0</td>\n",
       "      <td>2</td>\n",
       "      <td>279</td>\n",
       "      <td>70</td>\n",
       "      <td>20</td>\n",
       "      <td>3</td>\n",
       "    </tr>\n",
       "    <tr>\n",
       "      <th>1157</th>\n",
       "      <td>130</td>\n",
       "      <td>0</td>\n",
       "      <td>18</td>\n",
       "      <td>1</td>\n",
       "      <td>0</td>\n",
       "      <td>0</td>\n",
       "      <td>186</td>\n",
       "      <td>64</td>\n",
       "      <td>150</td>\n",
       "      <td>3</td>\n",
       "    </tr>\n",
       "    <tr>\n",
       "      <th>1158</th>\n",
       "      <td>108</td>\n",
       "      <td>6</td>\n",
       "      <td>17</td>\n",
       "      <td>1</td>\n",
       "      <td>0</td>\n",
       "      <td>0</td>\n",
       "      <td>114</td>\n",
       "      <td>114</td>\n",
       "      <td>193</td>\n",
       "      <td>3</td>\n",
       "    </tr>\n",
       "  </tbody>\n",
       "</table>\n",
       "<p>1159 rows × 10 columns</p>\n",
       "</div>"
      ],
      "text/plain": [
       "      Nombre  Ciudad  Año  Combustible  Tipo_marchas  Mano  Consumo  Motor_CC  \\\n",
       "0       1318       6   17            1             0     0      257        70   \n",
       "1        695       8   13            4             1     0      274         2   \n",
       "2        326       1   12            1             1     2      279        26   \n",
       "3       1139       2   17            4             1     0      301        10   \n",
       "4       1093       8   12            4             1     2      308        10   \n",
       "...      ...     ...  ...          ...           ...   ...      ...       ...   \n",
       "1154     167       5   14            1             1     0      379       140   \n",
       "1155     645       9   12            1             1     0      177        33   \n",
       "1156    1235       8   15            1             0     2      279        70   \n",
       "1157     130       0   18            1             0     0      186        64   \n",
       "1158     108       6   17            1             0     0      114       114   \n",
       "\n",
       "      Potencia  Asientos  \n",
       "0          119         3  \n",
       "1          284         3  \n",
       "2          283         3  \n",
       "3          326         3  \n",
       "4          334         3  \n",
       "...        ...       ...  \n",
       "1154       259         3  \n",
       "1155        27         3  \n",
       "1156        20         3  \n",
       "1157       150         3  \n",
       "1158       193         3  \n",
       "\n",
       "[1159 rows x 10 columns]"
      ]
     },
     "execution_count": 28,
     "metadata": {},
     "output_type": "execute_result"
    }
   ],
   "source": [
    "data_testCopia"
   ]
  },
  {
   "cell_type": "code",
   "execution_count": 12,
   "metadata": {},
   "outputs": [
    {
     "data": {
      "text/plain": [
       "0       3\n",
       "1       3\n",
       "2       3\n",
       "3       3\n",
       "4       3\n",
       "       ..\n",
       "4814    3\n",
       "4815    5\n",
       "4816    4\n",
       "4817    3\n",
       "4818    3\n",
       "Name: Precio_cat, Length: 4747, dtype: int64"
      ]
     },
     "execution_count": 12,
     "metadata": {},
     "output_type": "execute_result"
    }
   ],
   "source": [
    "target_train"
   ]
  },
  {
   "cell_type": "code",
   "execution_count": null,
   "metadata": {},
   "outputs": [],
   "source": [
    "GradientBoostingClassifier(criterion='friedman_mse', init=None,\n",
    " learning_rate=0.1, loss='deviance', max_depth=3,\n",
    " max_features=None, max_leaf_nodes=None,\n",
    " min_impurity_split=1e-07, min_samples_leaf=1,\n",
    " min_samples_split=2, min_weight_fraction_leaf=0.0,\n",
    " n_estimators=100, presort='auto', random_state=None,\n",
    " subsample=1.0, verbose=0, warm_start=False)"
   ]
  },
  {
   "cell_type": "code",
   "execution_count": 37,
   "metadata": {},
   "outputs": [],
   "source": [
    "from imblearn.over_sampling import SMOTE\n",
    "Xo, yo = SMOTE(random_state=42).fit_resample(data_trainCopia, target_train)"
   ]
  },
  {
   "cell_type": "code",
   "execution_count": 31,
   "metadata": {},
   "outputs": [
    {
     "data": {
      "text/html": [
       "<div>\n",
       "<style scoped>\n",
       "    .dataframe tbody tr th:only-of-type {\n",
       "        vertical-align: middle;\n",
       "    }\n",
       "\n",
       "    .dataframe tbody tr th {\n",
       "        vertical-align: top;\n",
       "    }\n",
       "\n",
       "    .dataframe thead th {\n",
       "        text-align: right;\n",
       "    }\n",
       "</style>\n",
       "<table border=\"1\" class=\"dataframe\">\n",
       "  <thead>\n",
       "    <tr style=\"text-align: right;\">\n",
       "      <th></th>\n",
       "      <th>Nombre</th>\n",
       "      <th>Ciudad</th>\n",
       "      <th>Año</th>\n",
       "      <th>Combustible</th>\n",
       "      <th>Tipo_marchas</th>\n",
       "      <th>Mano</th>\n",
       "      <th>Consumo</th>\n",
       "      <th>Motor_CC</th>\n",
       "      <th>Potencia</th>\n",
       "      <th>Asientos</th>\n",
       "    </tr>\n",
       "  </thead>\n",
       "  <tbody>\n",
       "    <tr>\n",
       "      <th>0</th>\n",
       "      <td>1143</td>\n",
       "      <td>5</td>\n",
       "      <td>14</td>\n",
       "      <td>1</td>\n",
       "      <td>1</td>\n",
       "      <td>0</td>\n",
       "      <td>353</td>\n",
       "      <td>14</td>\n",
       "      <td>299</td>\n",
       "      <td>3</td>\n",
       "    </tr>\n",
       "    <tr>\n",
       "      <th>1</th>\n",
       "      <td>1204</td>\n",
       "      <td>7</td>\n",
       "      <td>18</td>\n",
       "      <td>4</td>\n",
       "      <td>1</td>\n",
       "      <td>0</td>\n",
       "      <td>290</td>\n",
       "      <td>144</td>\n",
       "      <td>279</td>\n",
       "      <td>3</td>\n",
       "    </tr>\n",
       "    <tr>\n",
       "      <th>2</th>\n",
       "      <td>846</td>\n",
       "      <td>4</td>\n",
       "      <td>18</td>\n",
       "      <td>1</td>\n",
       "      <td>1</td>\n",
       "      <td>0</td>\n",
       "      <td>377</td>\n",
       "      <td>11</td>\n",
       "      <td>308</td>\n",
       "      <td>4</td>\n",
       "    </tr>\n",
       "    <tr>\n",
       "      <th>3</th>\n",
       "      <td>714</td>\n",
       "      <td>3</td>\n",
       "      <td>15</td>\n",
       "      <td>4</td>\n",
       "      <td>1</td>\n",
       "      <td>0</td>\n",
       "      <td>235</td>\n",
       "      <td>10</td>\n",
       "      <td>312</td>\n",
       "      <td>3</td>\n",
       "    </tr>\n",
       "    <tr>\n",
       "      <th>4</th>\n",
       "      <td>472</td>\n",
       "      <td>6</td>\n",
       "      <td>19</td>\n",
       "      <td>4</td>\n",
       "      <td>1</td>\n",
       "      <td>0</td>\n",
       "      <td>242</td>\n",
       "      <td>12</td>\n",
       "      <td>344</td>\n",
       "      <td>3</td>\n",
       "    </tr>\n",
       "    <tr>\n",
       "      <th>...</th>\n",
       "      <td>...</td>\n",
       "      <td>...</td>\n",
       "      <td>...</td>\n",
       "      <td>...</td>\n",
       "      <td>...</td>\n",
       "      <td>...</td>\n",
       "      <td>...</td>\n",
       "      <td>...</td>\n",
       "      <td>...</td>\n",
       "      <td>...</td>\n",
       "    </tr>\n",
       "    <tr>\n",
       "      <th>10700</th>\n",
       "      <td>147</td>\n",
       "      <td>2</td>\n",
       "      <td>11</td>\n",
       "      <td>1</td>\n",
       "      <td>0</td>\n",
       "      <td>0</td>\n",
       "      <td>14</td>\n",
       "      <td>114</td>\n",
       "      <td>178</td>\n",
       "      <td>2</td>\n",
       "    </tr>\n",
       "    <tr>\n",
       "      <th>10701</th>\n",
       "      <td>1310</td>\n",
       "      <td>5</td>\n",
       "      <td>14</td>\n",
       "      <td>1</td>\n",
       "      <td>0</td>\n",
       "      <td>0</td>\n",
       "      <td>121</td>\n",
       "      <td>70</td>\n",
       "      <td>117</td>\n",
       "      <td>3</td>\n",
       "    </tr>\n",
       "    <tr>\n",
       "      <th>10702</th>\n",
       "      <td>1306</td>\n",
       "      <td>4</td>\n",
       "      <td>18</td>\n",
       "      <td>1</td>\n",
       "      <td>0</td>\n",
       "      <td>0</td>\n",
       "      <td>11</td>\n",
       "      <td>98</td>\n",
       "      <td>111</td>\n",
       "      <td>3</td>\n",
       "    </tr>\n",
       "    <tr>\n",
       "      <th>10703</th>\n",
       "      <td>514</td>\n",
       "      <td>9</td>\n",
       "      <td>17</td>\n",
       "      <td>1</td>\n",
       "      <td>0</td>\n",
       "      <td>0</td>\n",
       "      <td>175</td>\n",
       "      <td>41</td>\n",
       "      <td>62</td>\n",
       "      <td>3</td>\n",
       "    </tr>\n",
       "    <tr>\n",
       "      <th>10704</th>\n",
       "      <td>1773</td>\n",
       "      <td>4</td>\n",
       "      <td>19</td>\n",
       "      <td>1</td>\n",
       "      <td>1</td>\n",
       "      <td>0</td>\n",
       "      <td>84</td>\n",
       "      <td>83</td>\n",
       "      <td>85</td>\n",
       "      <td>5</td>\n",
       "    </tr>\n",
       "  </tbody>\n",
       "</table>\n",
       "<p>10705 rows × 10 columns</p>\n",
       "</div>"
      ],
      "text/plain": [
       "       Nombre  Ciudad  Año  Combustible  Tipo_marchas  Mano  Consumo  \\\n",
       "0        1143       5   14            1             1     0      353   \n",
       "1        1204       7   18            4             1     0      290   \n",
       "2         846       4   18            1             1     0      377   \n",
       "3         714       3   15            4             1     0      235   \n",
       "4         472       6   19            4             1     0      242   \n",
       "...       ...     ...  ...          ...           ...   ...      ...   \n",
       "10700     147       2   11            1             0     0       14   \n",
       "10701    1310       5   14            1             0     0      121   \n",
       "10702    1306       4   18            1             0     0       11   \n",
       "10703     514       9   17            1             0     0      175   \n",
       "10704    1773       4   19            1             1     0       84   \n",
       "\n",
       "       Motor_CC  Potencia  Asientos  \n",
       "0            14       299         3  \n",
       "1           144       279         3  \n",
       "2            11       308         4  \n",
       "3            10       312         3  \n",
       "4            12       344         3  \n",
       "...         ...       ...       ...  \n",
       "10700       114       178         2  \n",
       "10701        70       117         3  \n",
       "10702        98       111         3  \n",
       "10703        41        62         3  \n",
       "10704        83        85         5  \n",
       "\n",
       "[10705 rows x 10 columns]"
      ]
     },
     "execution_count": 31,
     "metadata": {},
     "output_type": "execute_result"
    }
   ],
   "source": [
    "Xo"
   ]
  },
  {
   "cell_type": "code",
   "execution_count": 5,
   "metadata": {},
   "outputs": [
    {
     "name": "stdout",
     "output_type": "stream",
     "text": [
      "Score Validacion Cruzada 86.74643350207087\n"
     ]
    }
   ],
   "source": [
    "clf = GradientBoostingClassifier(learning_rate=0.07, n_estimators=700, max_depth=2)\n",
    "\n",
    "scores = cross_val_score(clf, Xo, yo, cv=5, scoring='accuracy')\n",
    "print(\"Score Validacion Cruzada\", np.mean(scores)*100)\n",
    "\n",
    "clfEntrenado = clf.fit(Xo, yo)\n",
    "preclf = clfEntrenado.predict(data_testCopia)"
   ]
  },
  {
   "cell_type": "code",
   "execution_count": 6,
   "metadata": {},
   "outputs": [
    {
     "name": "stdout",
     "output_type": "stream",
     "text": [
      "Score Validacion Cruzada 87.47353888633226\n"
     ]
    }
   ],
   "source": [
    "clf = GradientBoostingClassifier(learning_rate=0.09, n_estimators=700, max_depth=2)\n",
    "\n",
    "scores = cross_val_score(clf, Xo, yo, cv=5, scoring='accuracy')\n",
    "print(\"Score Validacion Cruzada\", np.mean(scores)*100)\n",
    "\n",
    "clfEntrenado = clf.fit(Xo, yo)\n",
    "preclf = clfEntrenado.predict(data_testCopia)"
   ]
  },
  {
   "cell_type": "code",
   "execution_count": 15,
   "metadata": {},
   "outputs": [
    {
     "name": "stdout",
     "output_type": "stream",
     "text": [
      "Score Validacion Cruzada 89.5904279797515\n"
     ]
    }
   ],
   "source": [
    "clf = GradientBoostingClassifier(learning_rate=0.9, n_estimators=750, max_depth=2)\n",
    "\n",
    "scores = cross_val_score(clf, Xo, yo, cv=5, scoring='accuracy')\n",
    "print(\"Score Validacion Cruzada\", np.mean(scores)*100)\n",
    "\n",
    "clfEntrenado = clf.fit(Xo, yo)\n",
    "preclfOverGradient = clfEntrenado.predict(data_testCopia)\n",
    "\n",
    "\n",
    "dfAux = pd.DataFrame({'id':data_test['id']})\n",
    "dfAux.set_index('id', inplace=True)\n",
    "dfFinal = pd.DataFrame({'id': data_test['id'], 'Precio_cat': preclfOverGradient}, columns=['id', 'Precio_cat'])\n",
    "dfFinal.set_index('id', inplace=True)\n",
    "dfFinal.to_csv(\"./soluciones/GradientOverSamplingConRandomStateScoreLocal895628.csv\")"
   ]
  },
  {
   "cell_type": "code",
   "execution_count": 21,
   "metadata": {},
   "outputs": [
    {
     "name": "stdout",
     "output_type": "stream",
     "text": [
      "Score Validacion Cruzada 89.12103083294983\n"
     ]
    }
   ],
   "source": [
    "clf = GradientBoostingClassifier(learning_rate=0.055, n_estimators=2500, max_depth=2)\n",
    "\n",
    "scores = cross_val_score(clf, Xo, yo, cv=5, scoring='accuracy')\n",
    "print(\"Score Validacion Cruzada\", np.mean(scores)*100)\n",
    "\n",
    "clfEntrenado = clf.fit(Xo, yo)\n",
    "preclfOverGradient = clfEntrenado.predict(data_testCopia)"
   ]
  },
  {
   "cell_type": "code",
   "execution_count": 5,
   "metadata": {},
   "outputs": [
    {
     "name": "stdout",
     "output_type": "stream",
     "text": [
      "Score Validacion Cruzada 90.57524160147261\n"
     ]
    }
   ],
   "source": [
    "clf = GradientBoostingClassifier(learning_rate=0.5, n_estimators=400)\n",
    "\n",
    "scores = cross_val_score(clf, Xo, yo, cv=5, scoring='accuracy')\n",
    "print(\"Score Validacion Cruzada\", np.mean(scores)*100)\n",
    "\n",
    "clfEntrenado = clf.fit(Xo, yo)\n",
    "preclfOverGradient = clfEntrenado.predict(data_testCopia)"
   ]
  },
  {
   "cell_type": "code",
   "execution_count": null,
   "metadata": {},
   "outputs": [],
   "source": []
  },
  {
   "cell_type": "code",
   "execution_count": 11,
   "metadata": {},
   "outputs": [
    {
     "name": "stdout",
     "output_type": "stream",
     "text": [
      "Score Validacion Cruzada 91.32995858260469\n"
     ]
    }
   ],
   "source": [
    "clf = GradientBoostingClassifier(learning_rate=0.5, n_estimators=100, max_depth=6)\n",
    "\n",
    "scores = cross_val_score(clf, Xo, yo, cv=5, scoring='accuracy')\n",
    "print(\"Score Validacion Cruzada\", np.mean(scores)*100)\n",
    "\n",
    "clfEntrenado = clf.fit(Xo, yo)\n",
    "preclfOverGradient = clfEntrenado.predict(data_testCopia)"
   ]
  },
  {
   "cell_type": "code",
   "execution_count": 8,
   "metadata": {},
   "outputs": [
    {
     "name": "stdout",
     "output_type": "stream",
     "text": [
      "Score Validacion Cruzada 90.86976530142661\n"
     ]
    }
   ],
   "source": [
    "clf = GradientBoostingClassifier(learning_rate=0.5, n_estimators=100, max_depth=6)\n",
    "\n",
    "scores = cross_val_score(clf, Xo, yo, cv=5, scoring='accuracy')\n",
    "print(\"Score Validacion Cruzada\", np.mean(scores)*100)\n",
    "\n",
    "clfEntrenado = clf.fit(Xo, yo)\n",
    "preclfOverGradient = clfEntrenado.predict(data_testCopia)"
   ]
  },
  {
   "cell_type": "code",
   "execution_count": 17,
   "metadata": {},
   "outputs": [
    {
     "name": "stdout",
     "output_type": "stream",
     "text": [
      "Score Validacion Cruzada 81.41986578670067\n"
     ]
    }
   ],
   "source": [
    "clf = GradientBoostingClassifier(learning_rate=0.5, n_estimators=100, max_depth=6)\n",
    "\n",
    "scores = cross_val_score(clf, data_trainCopia, target_train, cv=5, scoring='accuracy')\n",
    "print(\"Score Validacion Cruzada\", np.mean(scores)*100)\n",
    "\n",
    "clfEntrenado = clf.fit(data_trainCopia, target_train)\n",
    "preclfOverGradient = clfEntrenado.predict(data_testCopia)"
   ]
  },
  {
   "cell_type": "code",
   "execution_count": 23,
   "metadata": {},
   "outputs": [
    {
     "name": "stdout",
     "output_type": "stream",
     "text": [
      "Score Validacion Cruzada CON MODELO 91.07225034514498\n"
     ]
    }
   ],
   "source": [
    "lgbm1 = lgb.LGBMClassifier(learning_rate=0.5, objective='binary', n_estimators=550, n_jobs=2, \n",
    "                          num_leaves=11, max_depth=-1, reg_alpha=0.1)\n",
    "\n",
    "scores = cross_val_score(lgbm1, Xo, yo, cv=5, scoring='accuracy')\n",
    "print(\"Score Validacion Cruzada CON MODELO\", np.mean(scores)*100)\n",
    "\n",
    "lgbmEntrenado = lgbm1.fit(Xo, yo)\n",
    "preMamaJuanca = lgbmEntrenado.predict(data_testCopia)"
   ]
  },
  {
   "cell_type": "code",
   "execution_count": 7,
   "metadata": {},
   "outputs": [
    {
     "name": "stdout",
     "output_type": "stream",
     "text": [
      "Score Validacion Cruzada CON MODELO 90.74091118269672\n"
     ]
    }
   ],
   "source": [
    "lgbm1 = lgb.LGBMClassifier(learning_rate=0.5, objective='binary', n_estimators=550, n_jobs=2, \n",
    "                          num_leaves=11, max_depth=-1, reg_alpha=0.1)\n",
    "\n",
    "scores = cross_val_score(lgbm1, Xo, yo, cv=5, scoring='accuracy')\n",
    "print(\"Score Validacion Cruzada CON MODELO\", np.mean(scores)*100)\n",
    "\n",
    "lgbmEntrenado = lgbm1.fit(Xo, yo)\n",
    "preMamaJuanca = lgbmEntrenado.predict(data_testCopia)"
   ]
  },
  {
   "cell_type": "code",
   "execution_count": 9,
   "metadata": {},
   "outputs": [
    {
     "name": "stdout",
     "output_type": "stream",
     "text": [
      "Score Validacion Cruzada CON MODELO 90.92498849516797\n"
     ]
    }
   ],
   "source": [
    "lgbm1 = lgb.LGBMClassifier(learning_rate=0.2, objective='binary', n_estimators=550, n_jobs=2, \n",
    "                          num_leaves=11, max_depth=-1)\n",
    "\n",
    "scores = cross_val_score(lgbm1, Xo, yo, cv=5, scoring='accuracy')\n",
    "print(\"Score Validacion Cruzada CON MODELO\", np.mean(scores)*100)\n",
    "\n",
    "lgbmEntrenado = lgbm1.fit(Xo, yo)\n",
    "preMamaJuanca = lgbmEntrenado.predict(data_testCopia)"
   ]
  },
  {
   "cell_type": "code",
   "execution_count": 18,
   "metadata": {},
   "outputs": [
    {
     "name": "stdout",
     "output_type": "stream",
     "text": [
      "Score Validacion Cruzada CON MODELO nan\n"
     ]
    }
   ],
   "source": [
    "lgbm1 = lgb.LGBMClassifier(learning_rate=0.2, objective='multiclassova', n_estimators=550, n_jobs=2, \n",
    "                          num_leaves=11, max_depth=-1)\n",
    "\n",
    "scores = cross_val_score(lgbm1, data_trainCopia, target_train, cv=5, scoring='accuracy')\n",
    "print(\"Score Validacion Cruzada CON MODELO\", np.mean(scores)*100)\n",
    "\n",
    "lgbmEntrenado = lgbm1.fit(data_trainCopia, target_train)\n",
    "preMamaJuanca = lgbmEntrenado.predict(data_testCopia)"
   ]
  },
  {
   "cell_type": "code",
   "execution_count": 14,
   "metadata": {},
   "outputs": [
    {
     "name": "stdout",
     "output_type": "stream",
     "text": [
      "Score Validacion Cruzada CON MODELO 91.21951219512195\n"
     ]
    }
   ],
   "source": [
    "lgbm1 = lgb.LGBMClassifier(learning_rate=0.3, objective='binary', n_estimators=500, n_jobs=2, \n",
    "                          num_leaves=11, max_depth=-1)\n",
    "\n",
    "scores = cross_val_score(lgbm1, Xo, yo, cv=5, scoring='accuracy')\n",
    "print(\"Score Validacion Cruzada CON MODELO\", np.mean(scores)*100)\n",
    "\n",
    "lgbmEntrenado = lgbm1.fit(Xo, yo)\n",
    "preMamaJuanca = lgbmEntrenado.predict(data_testCopia)"
   ]
  },
  {
   "cell_type": "code",
   "execution_count": 24,
   "metadata": {},
   "outputs": [
    {
     "name": "stdout",
     "output_type": "stream",
     "text": [
      "Score Validacion Cruzada CON MODELO 83.2513368983957\n"
     ]
    }
   ],
   "source": [
    "lgbm1 = lgb.LGBMClassifier(learning_rate=0.3, objective='binary', n_estimators=60, n_jobs=2, num_leaves=8, max_depth=8)\n",
    "\n",
    "scores = cross_val_score(lgbm1, data_trainCopia, target_train, cv=5, scoring='accuracy')\n",
    "print(\"Score Validacion Cruzada CON MODELO\", np.mean(scores)*100)\n",
    "\n",
    "lgbmEntrenado = lgbm1.fit(data_trainCopia, target_train)\n",
    "preMamaJuanca = lgbmEntrenado.predict(data_testCopia)"
   ]
  },
  {
   "cell_type": "code",
   "execution_count": null,
   "metadata": {},
   "outputs": [],
   "source": []
  },
  {
   "cell_type": "code",
   "execution_count": null,
   "metadata": {},
   "outputs": [],
   "source": []
  },
  {
   "cell_type": "code",
   "execution_count": null,
   "metadata": {},
   "outputs": [],
   "source": []
  },
  {
   "cell_type": "code",
   "execution_count": null,
   "metadata": {},
   "outputs": [],
   "source": []
  },
  {
   "cell_type": "code",
   "execution_count": 25,
   "metadata": {},
   "outputs": [
    {
     "name": "stdout",
     "output_type": "stream",
     "text": [
      "Score Validacion Cruzada 83.01604278074865\n"
     ]
    }
   ],
   "source": [
    "#GRADIENT BOOSTING CON PARAMETROS DE GRIDSHARE Y DATOS SIN NORMALIZAR\n",
    "clf = GradientBoostingClassifier(learning_rate=0.3, n_estimators=70, max_depth=4)\n",
    "\n",
    "scores = cross_val_score(clf, data_trainCopia, target_train, cv=5, scoring='accuracy')\n",
    "print(\"Score Validacion Cruzada\", np.mean(scores)*100)\n",
    "\n",
    "clfEntrenado = clf.fit(data_trainCopia, target_train)\n",
    "preclfOverGradient = clfEntrenado.predict(data_testCopia)"
   ]
  },
  {
   "cell_type": "code",
   "execution_count": 38,
   "metadata": {},
   "outputs": [
    {
     "name": "stdout",
     "output_type": "stream",
     "text": [
      "Score Validacion Cruzada 90.98552078468005\n"
     ]
    }
   ],
   "source": [
    "#ESTO ME HA DICHO QUE ES LO QUE ME VA A SUBIR\n",
    "#GRADIENT BOOSTING CON PARAMETROS DE GRIDSHARE Y DATOS NORMALIZADOS\n",
    "clf = GradientBoostingClassifier(learning_rate=0.5, n_estimators=70, max_depth=5, random_state=42)\n",
    "\n",
    "scores = cross_val_score(clf, Xo, yo, cv=5, scoring='accuracy')\n",
    "print(\"Score Validacion Cruzada\", np.mean(scores)*100)\n",
    "\n",
    "clfEntrenado = clf.fit(Xo, yo)\n",
    "preclfOverGradient = clfEntrenado.predict(data_testCopia)"
   ]
  },
  {
   "cell_type": "code",
   "execution_count": 42,
   "metadata": {},
   "outputs": [
    {
     "name": "stdout",
     "output_type": "stream",
     "text": [
      "Score Validacion Cruzada CON MODELO 78.67351704810835\n"
     ]
    }
   ],
   "source": [
    "lgbm1 = lgb.LGBMClassifier(learning_rate=0.7, objective='binary', n_estimators=70, n_jobs=2, num_leaves=10, max_depth=4, random_state=42)\n",
    "\n",
    "scores = cross_val_score(lgbm1,Xo, yo, cv=5, scoring='accuracy')\n",
    "print(\"Score Validacion Cruzada CON MODELO\", np.mean(scores)*100)\n",
    "\n",
    "lgbmEntrenado = lgbm1.fit(Xo, yo)\n",
    "preMamaJuanca = lgbmEntrenado.predict(data_testCopia)"
   ]
  }
 ],
 "metadata": {
  "kernelspec": {
   "display_name": "Python 3",
   "language": "python",
   "name": "python3"
  },
  "language_info": {
   "codemirror_mode": {
    "name": "ipython",
    "version": 3
   },
   "file_extension": ".py",
   "mimetype": "text/x-python",
   "name": "python",
   "nbconvert_exporter": "python",
   "pygments_lexer": "ipython3",
   "version": "3.8.3"
  }
 },
 "nbformat": 4,
 "nbformat_minor": 4
}
