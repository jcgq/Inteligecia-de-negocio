{
 "cells": [
  {
   "cell_type": "code",
   "execution_count": 1,
   "metadata": {},
   "outputs": [],
   "source": [
    "import pandas as pd\n",
    "import numpy as np\n",
    "import time\n",
    "import seaborn as sns\n",
    "import matplotlib.pyplot as plt\n",
    "import sklearn.metrics as metrics\n",
    "import statistics\n",
    "from sklearn import preprocessing as pp\n",
    "from sklearn.model_selection import StratifiedKFold\n",
    "from sklearn.metrics import accuracy_score\n",
    "from sklearn import preprocessing\n",
    "from sklearn import tree\n",
    "from sklearn.model_selection import cross_val_score, cross_validate, train_test_split\n",
    "from sklearn.ensemble import RandomForestClassifier\n",
    "\n",
    "#Todas las librerías para los distintos algoritmos\n",
    "from sklearn.naive_bayes import GaussianNB\n",
    "from sklearn.ensemble import RandomForestClassifier\n",
    "from sklearn.neighbors import KNeighborsClassifier\n",
    "from sklearn.preprocessing import LabelEncoder\n",
    "from sklearn.tree import DecisionTreeClassifier"
   ]
  },
  {
   "cell_type": "code",
   "execution_count": null,
   "metadata": {},
   "outputs": [],
   "source": [
    "data_train= pd.read_csv(\"./datos/train.csv\",na_values=[\"?\"])\n",
    "data_test= pd.read_csv(\"./datos/test.csv\",na_values=[\"?\"])\n",
    "data_trainCopia = data_train.copy()\n",
    "data_testCopia = data_test.copy()\n",
    "\n",
    "data_trainCopia['Nombre']=data_trainCopia['Nombre'].fillna(mode(data_trainCopia['Nombre']))\n",
    "data_trainCopia['Año']=data_trainCopia['Año'].fillna(mode(data_trainCopia['Año']))\n",
    "data_trainCopia['Ciudad']=data_trainCopia['Ciudad'].fillna(mode(data_trainCopia['Ciudad']))\n",
    "data_trainCopia['Kilometros']=data_trainCopia['Kilometros'].fillna(mode(data_trainCopia['Kilometros']))\n",
    "data_trainCopia['Combustible']=data_trainCopia['Combustible'].fillna(mode(data_trainCopia['Combustible']))\n",
    "data_trainCopia['Tipo_marchas']=data_trainCopia['Tipo_marchas'].fillna(mode(data_trainCopia['Tipo_marchas']))\n",
    "data_trainCopia['Mano']=data_trainCopia['Mano'].fillna(mode(data_trainCopia['Mano']))\n",
    "data_trainCopia['Consumo']=data_trainCopia['Consumo'].fillna(mode(data_trainCopia['Consumo']))\n",
    "data_trainCopia['Motor_CC']=data_trainCopia['Motor_CC'].fillna(mode(data_trainCopia['Motor_CC']))\n",
    "data_trainCopia['Potencia']=data_trainCopia['Potencia'].fillna(mode(data_trainCopia['Potencia']))\n",
    "data_trainCopia['Asientos']=data_trainCopia['Asientos'].fillna(mode(data_trainCopia['Asientos']))\n",
    "data_trainCopia['Descuento']=data_trainCopia['Descuento'].fillna(mode(data_trainCopia['Descuento']))\n",
    "\n",
    "data_testCopia['Nombre']=data_testCopia['Nombre'].fillna(mode(data_testCopia['Nombre']))\n",
    "data_testCopia['Año']=data_testCopia['Año'].fillna(mode(data_testCopia['Año']))\n",
    "data_testCopia['Ciudad']=data_testCopia['Ciudad'].fillna(mode(data_testCopia['Ciudad']))\n",
    "data_testCopia['Kilometros']=data_testCopia['Kilometros'].fillna(mode(data_testCopia['Kilometros']))\n",
    "data_testCopia['Combustible']=data_testCopia['Combustible'].fillna(mode(data_testCopia['Combustible']))\n",
    "data_testCopia['Tipo_marchas']=data_testCopia['Tipo_marchas'].fillna(mode(data_testCopia['Tipo_marchas']))\n",
    "data_testCopia['Mano']=data_testCopia['Mano'].fillna(mode(data_testCopia['Mano']))\n",
    "data_testCopia['Consumo']=data_testCopia['Consumo'].fillna(mode(data_testCopia['Consumo']))\n",
    "data_testCopia['Motor_CC']=data_testCopia['Motor_CC'].fillna(mode(data_testCopia['Motor_CC']))\n",
    "data_testCopia['Potencia']=data_testCopia['Potencia'].fillna(mode(data_testCopia['Potencia']))\n",
    "data_testCopia['Asientos']=data_testCopia['Asientos'].fillna(mode(data_testCopia['Asientos']))\n",
    "data_testCopia['Descuento']=data_testCopia['Descuento'].fillna(mode(data_testCopia['Descuento']))\n",
    "\n",
    "#Eliminamos las columnas que no necesitamos\n",
    "data_trainCopia=data_trainCopia.drop(['Descuento'], axis=1)\n",
    "data_trainCopia=data_trainCopia.drop(['id'], axis=1)\n",
    "data_testCopia=data_testCopia.drop(['Descuento'], axis=1)\n",
    "data_testCopia=data_testCopia.drop(['id'], axis=1)\n",
    "\n",
    "#Eliminamos los nan de los ids\n",
    "data_trainCopia=data_trainCopia.dropna() \n",
    "data_testCopia=data_testCopia.dropna() \n",
    "\n",
    "#Codificación de las filas\n",
    "data_trainCopia.Nombre = LabelEncoder().fit_transform(data_trainCopia.Nombre)\n",
    "data_trainCopia.Año = LabelEncoder().fit_transform(data_trainCopia.Año)\n",
    "data_trainCopia.Ciudad = LabelEncoder().fit_transform(data_trainCopia.Ciudad)\n",
    "data_trainCopia.Combustible = LabelEncoder().fit_transform(data_trainCopia.Combustible)\n",
    "data_trainCopia.Potencia = LabelEncoder().fit_transform(data_trainCopia.Potencia)\n",
    "data_trainCopia.Consumo = LabelEncoder().fit_transform(data_trainCopia.Consumo)\n",
    "data_trainCopia.Kilometros = LabelEncoder().fit_transform(data_trainCopia.Kilometros)\n",
    "data_trainCopia.Mano = LabelEncoder().fit_transform(data_trainCopia.Mano)\n",
    "data_trainCopia.Motor_CC = LabelEncoder().fit_transform(data_trainCopia.Motor_CC)\n",
    "data_trainCopia.Asientos = LabelEncoder().fit_transform(data_trainCopia.Asientos)\n",
    "data_trainCopia.Tipo_marchas = LabelEncoder().fit_transform(data_trainCopia.Tipo_marchas)\n",
    "#-------------------------------------------------------------------------------------------\n",
    "data_testCopia.Nombre = LabelEncoder().fit_transform(data_testCopia.Nombre)\n",
    "data_testCopia.Año = LabelEncoder().fit_transform(data_testCopia.Año)\n",
    "data_testCopia.Ciudad = LabelEncoder().fit_transform(data_testCopia.Ciudad)\n",
    "data_testCopia.Combustible = LabelEncoder().fit_transform(data_testCopia.Combustible)\n",
    "data_testCopia.Potencia = LabelEncoder().fit_transform(data_testCopia.Potencia)\n",
    "data_testCopia.Consumo = LabelEncoder().fit_transform(data_testCopia.Consumo)\n",
    "data_testCopia.Kilometros = LabelEncoder().fit_transform(data_testCopia.Kilometros)\n",
    "data_testCopia.Mano =LabelEncoder().fit_transform(data_testCopia.Mano)\n",
    "data_testCopia.Asientos = LabelEncoder().fit_transform(data_testCopia.Asientos)\n",
    "data_testCopia.Motor_CC = LabelEncoder().fit_transform(data_testCopia.Motor_CC)\n",
    "data_testCopia.Tipo_marchas = LabelEncoder().fit_transform(data_testCopia.Tipo_marchas)\n",
    "\n",
    "#Obtener el resto de los atributos\n",
    "target_train=data_trainCopia['Precio_cat']\n",
    "data_trainCopia=data_trainCopia.drop(['Precio_cat'], axis=1)\n",
    "#atributos=data_train[['id','Nombre','Ciudad','Año','Kilometros','Combustible','Tipo_marchas','Mano','Consumo','Motor_CC','Potencia','Asientos','Descuento']]\n",
    "atributos=data_trainCopia[['Nombre','Ciudad','Año','Kilometros','Combustible','Tipo_marchas','Mano','Consumo','Motor_CC','Potencia', 'Asientos']]\n",
    "target = pd.read_csv('./datos/precio_cat.csv')\n"
   ]
  },
  {
   "cell_type": "code",
   "execution_count": 3,
   "metadata": {},
   "outputs": [
    {
     "name": "stdout",
     "output_type": "stream",
     "text": [
      "Score Vaidacion Cruzada 62.90293383617104\n"
     ]
    }
   ],
   "source": [
    "#Modelo Gaussiano\n",
    "gnb = GaussianNB()\n",
    "gnbEntrenado = gnb.fit(data_trainCopia, target_train)\n",
    "pregnb = gnbEntrenado.predict(data_testCopia)\n",
    "\n",
    "scores = cross_val_score(gnbEntrenado, atributos, target_train, cv=5, scoring='accuracy')\n",
    "print(\"Score Vaidacion Cruzada\", np.mean(scores)*100)"
   ]
  },
  {
   "cell_type": "code",
   "execution_count": 5,
   "metadata": {},
   "outputs": [
    {
     "name": "stdout",
     "output_type": "stream",
     "text": [
      "Score Vaidacion Cruzada 74.0470522988187\n"
     ]
    }
   ],
   "source": [
    "#Arbol de decisión\n",
    "arbNor = tree.DecisionTreeClassifier()\n",
    "arbolEntrenado = arbNor.fit(data_trainCopia, target_train)\n",
    "predADnor = arbolEntrenado.predict(data_testCopia)\n",
    "\n",
    "scores = cross_val_score(arbolEntrenado, atributos, target_train, cv=5, scoring='accuracy')\n",
    "print(\"Score Vaidacion Cruzada\", np.mean(scores)*100)"
   ]
  },
  {
   "cell_type": "code",
   "execution_count": 6,
   "metadata": {},
   "outputs": [
    {
     "name": "stdout",
     "output_type": "stream",
     "text": [
      "Score Vaidacion Cruzada 79.90292274416284\n"
     ]
    }
   ],
   "source": [
    "#Random Forests\n",
    "forests = RandomForestClassifier(n_estimators=10, max_depth=None,min_samples_split=2, random_state=0)\n",
    "forestEntrenado = forests.fit(data_trainCopia, target_train)\n",
    "preFo = forestEntrenado.predict(data_testCopia)\n",
    "\n",
    "scores = cross_val_score(forestEntrenado, atributos, target_train, cv=5, scoring='accuracy')\n",
    "print(\"Score Vaidacion Cruzada\", np.mean(scores)*100)"
   ]
  },
  {
   "cell_type": "code",
   "execution_count": null,
   "metadata": {},
   "outputs": [],
   "source": [
    "dfAux = pd.DataFrame({'id':data_test['id']})\n",
    "dfAux.set_index('id', inplace=True)\n",
    "dfFinal = pd.DataFrame({'id': data_test['id'], 'Precio_cat': preFo}, columns=['id', 'Precio_cat'])\n",
    "dfFinal.set_index('id', inplace=True)\n",
    "dfFinal.to_csv(\"./soluciones/nombre_del_csv.csv\")"
   ]
  }
 ],
 "metadata": {
  "kernelspec": {
   "display_name": "Python 3",
   "language": "python",
   "name": "python3"
  },
  "language_info": {
   "codemirror_mode": {
    "name": "ipython",
    "version": 3
   },
   "file_extension": ".py",
   "mimetype": "text/x-python",
   "name": "python",
   "nbconvert_exporter": "python",
   "pygments_lexer": "ipython3",
   "version": "3.8.3"
  }
 },
 "nbformat": 4,
 "nbformat_minor": 4
}
