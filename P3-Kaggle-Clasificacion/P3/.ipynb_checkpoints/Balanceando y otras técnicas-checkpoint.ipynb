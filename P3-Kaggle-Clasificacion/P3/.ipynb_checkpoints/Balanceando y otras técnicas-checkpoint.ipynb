{
 "cells": [
  {
   "cell_type": "markdown",
   "metadata": {},
   "source": [
    "# Sobre este Notebook"
   ]
  },
  {
   "cell_type": "markdown",
   "metadata": {},
   "source": [
    "En este Notebook vamos a mostrar distintas técnicas que pueden servir de cara a la práctica 3:\n",
    "\n",
    "- Uso de datos no balanceados.\n",
    "- Etiquetar de forma correcta."
   ]
  },
  {
   "cell_type": "markdown",
   "metadata": {},
   "source": [
    "# Trabajando con datos no Balanceados"
   ]
  },
  {
   "cell_type": "markdown",
   "metadata": {},
   "source": [
    "Lo primero vamos a mostrar cómo se pueden trabajar con datos no balanceados. Para ello, usaremos un paquete específico para ello: [imbalanced-learn](http://glemaitre.github.io/imbalanced-learn/install.html)."
   ]
  },
  {
   "cell_type": "markdown",
   "metadata": {
    "ExecuteTime": {
     "end_time": "2020-12-15T12:59:59.204304Z",
     "start_time": "2020-12-15T12:59:59.196762Z"
    }
   },
   "source": [
    "Una explicación más detallada puede verse en https://towardsdatascience.com/how-to-deal-with-imbalanced-data-in-python-f9b71aba53eb\n"
   ]
  },
  {
   "cell_type": "markdown",
   "metadata": {
    "ExecuteTime": {
     "end_time": "2020-12-15T13:05:28.021861Z",
     "start_time": "2020-12-15T13:05:28.004191Z"
    }
   },
   "source": [
    "¿Por qué es malo *aprender* con datos no balanceados?\n",
    "\n",
    "Por varios motivos:\n",
    "    \n",
    "- Si una clase está *sobrerepresentada* frente al resto, el modelo tendrá mucha tendencia a elegirlo. Esto puede ser problemático o no, si los datos finales a predecir mantienen el mismo no-balanceamiento, pero si no fuese el caso sí podría dar problemas.\n",
    "\n",
    "- Si una clase aparece poco en las muestras respecto al resto el modelo puede tener tendencia a *despreciar* dicha clase ya que le afecta poco a sus medidas, llegando incluso a ignorarla en casos extremos. Esto se produce independientemente de si dicho no-balanceamiento aparece también en los datos finales sobre los que se vaya a predecir."
   ]
  },
  {
   "cell_type": "markdown",
   "metadata": {},
   "source": [
    "Como comento, la gravedad depende del nivel de desbalanceamiento y de si el conjunto de datos a predecir mantiene el balanceamiento o no, pero en cualquier caso puede ser problemático, y es recomendable tratarlo."
   ]
  },
  {
   "cell_type": "markdown",
   "metadata": {},
   "source": [
    "Pero antes de empezar, hay que valorar los datos que tenemos en el Datasets y el grado de balanceo. Dependendiendo de las características puede ser más conveniente uno que otro: undersampling, y oversampling."
   ]
  },
  {
   "cell_type": "markdown",
   "metadata": {
    "ExecuteTime": {
     "end_time": "2020-12-15T13:12:59.803803Z",
     "start_time": "2020-12-15T13:12:59.789138Z"
    }
   },
   "source": [
    "Ambas técnicas están implementadas en un paquete específico que usaremos: [imbalanced-learn](https://github.com/scikit-learn-contrib/imbalanced-learn) que está [bien documentado](http://glemaitre.github.io/imbalanced-learn/index.html)"
   ]
  },
  {
   "cell_type": "markdown",
   "metadata": {},
   "source": [
    "## Creando datos sintáticos"
   ]
  },
  {
   "cell_type": "markdown",
   "metadata": {},
   "source": [
    "Para este ejemplo no vamos a usar datos reales, si no datos sintéticos, Scikit-learn posee varios métodos para ello."
   ]
  },
  {
   "cell_type": "code",
   "execution_count": null,
   "metadata": {
    "ExecuteTime": {
     "end_time": "2020-12-15T19:11:33.261064Z",
     "start_time": "2020-12-15T19:11:33.258190Z"
    }
   },
   "outputs": [],
   "source": [
    "from imblearn.datasets import make_imbalance\n",
    "from sklearn.datasets import make_moons"
   ]
  },
  {
   "cell_type": "code",
   "execution_count": null,
   "metadata": {
    "ExecuteTime": {
     "end_time": "2020-12-15T19:11:33.288868Z",
     "start_time": "2020-12-15T19:11:33.263275Z"
    }
   },
   "outputs": [],
   "source": [
    "X, y = make_moons(n_samples=1000, shuffle=True, noise=0.5, random_state=10)\n",
    "# Le metemos \n",
    "X, y = make_imbalance(X, y,  sampling_strategy={0: 80, 1: 400}, min_c_=1)"
   ]
  },
  {
   "cell_type": "code",
   "execution_count": null,
   "metadata": {
    "ExecuteTime": {
     "end_time": "2020-12-15T19:11:33.304784Z",
     "start_time": "2020-12-15T19:11:33.292122Z"
    }
   },
   "outputs": [],
   "source": [
    "from matplotlib import pyplot as plt\n",
    "import seaborn as sns"
   ]
  },
  {
   "cell_type": "markdown",
   "metadata": {},
   "source": [
    "Lo primero es ver cómo de desbalanceado está"
   ]
  },
  {
   "cell_type": "code",
   "execution_count": null,
   "metadata": {
    "ExecuteTime": {
     "end_time": "2020-12-15T19:11:33.327754Z",
     "start_time": "2020-12-15T19:11:33.307142Z"
    }
   },
   "outputs": [],
   "source": [
    "from collections import Counter"
   ]
  },
  {
   "cell_type": "code",
   "execution_count": null,
   "metadata": {
    "ExecuteTime": {
     "end_time": "2020-12-15T19:11:33.348824Z",
     "start_time": "2020-12-15T19:11:33.330139Z"
    }
   },
   "outputs": [],
   "source": [
    "Counter(y)"
   ]
  },
  {
   "cell_type": "markdown",
   "metadata": {
    "ExecuteTime": {
     "end_time": "2020-12-15T13:16:37.587527Z",
     "start_time": "2020-12-15T13:16:37.577242Z"
    }
   },
   "source": [
    "Se ve que está desbalanceado, una clase aparece siete veces más que otra."
   ]
  },
  {
   "cell_type": "markdown",
   "metadata": {
    "ExecuteTime": {
     "end_time": "2020-12-15T13:18:53.658237Z",
     "start_time": "2020-12-15T13:18:53.648065Z"
    }
   },
   "source": [
    "##  Visualmente"
   ]
  },
  {
   "cell_type": "code",
   "execution_count": null,
   "metadata": {
    "ExecuteTime": {
     "end_time": "2020-12-15T19:11:33.363224Z",
     "start_time": "2020-12-15T19:11:33.351150Z"
    }
   },
   "outputs": [],
   "source": [
    "def plot(X, y, title=\"Ejemplo de clases\"):\n",
    "    fig, ax = plt.subplots()\n",
    "    ax.set_title(title)\n",
    "    ax.scatter(X[y == 0, 0], X[y == 0, 1], label=\"Class #0\", alpha=0.8)\n",
    "    ax.scatter(X[y == 1, 0], X[y == 1, 1], label=\"Class #1\", alpha=0.5)"
   ]
  },
  {
   "cell_type": "code",
   "execution_count": null,
   "metadata": {
    "ExecuteTime": {
     "end_time": "2020-12-15T19:11:33.646235Z",
     "start_time": "2020-12-15T19:11:33.367008Z"
    }
   },
   "outputs": [],
   "source": [
    "plot(X, y)"
   ]
  },
  {
   "cell_type": "markdown",
   "metadata": {
    "ExecuteTime": {
     "end_time": "2020-12-15T13:22:49.550647Z",
     "start_time": "2020-12-15T13:22:49.541610Z"
    }
   },
   "source": [
    "De unas hay mucho más clases que de otras."
   ]
  },
  {
   "cell_type": "markdown",
   "metadata": {
    "ExecuteTime": {
     "end_time": "2020-12-15T13:22:52.520804Z",
     "start_time": "2020-12-15T13:22:52.516472Z"
    }
   },
   "source": [
    "## Undersampling\n",
    "\n",
    "El undersampling es muy fácil, implica filtrar las instancias de clases que ya tengan muchos representantes. Hay varias estrategias, pero ahora aplicamos el modo por defecto:"
   ]
  },
  {
   "cell_type": "markdown",
   "metadata": {
    "ExecuteTime": {
     "end_time": "2020-12-15T18:16:10.561869Z",
     "start_time": "2020-12-15T18:16:10.551483Z"
    }
   },
   "source": [
    "[Documentación de la librería de undersampling](https://imbalanced-learn.readthedocs.io/en/stable/under_sampling.html)"
   ]
  },
  {
   "cell_type": "markdown",
   "metadata": {},
   "source": [
    "Escogemos uno aleatorio primero"
   ]
  },
  {
   "cell_type": "code",
   "execution_count": null,
   "metadata": {
    "ExecuteTime": {
     "end_time": "2020-12-15T19:11:33.651969Z",
     "start_time": "2020-12-15T19:11:33.649115Z"
    }
   },
   "outputs": [],
   "source": [
    "from imblearn.under_sampling import RandomUnderSampler"
   ]
  },
  {
   "cell_type": "markdown",
   "metadata": {
    "ExecuteTime": {
     "end_time": "2020-12-15T19:10:39.469321Z",
     "start_time": "2020-12-15T19:10:39.465078Z"
    }
   },
   "source": [
    "Es interesante el atributo **sampling_strategy**, especialmente para multiclase."
   ]
  },
  {
   "cell_type": "code",
   "execution_count": null,
   "metadata": {
    "ExecuteTime": {
     "end_time": "2020-12-15T19:11:33.671436Z",
     "start_time": "2020-12-15T19:11:33.654222Z"
    }
   },
   "outputs": [],
   "source": [
    "rus = RandomUnderSampler(random_state=0, sampling_strategy='majority')"
   ]
  },
  {
   "cell_type": "code",
   "execution_count": null,
   "metadata": {
    "ExecuteTime": {
     "end_time": "2020-12-15T19:11:33.688657Z",
     "start_time": "2020-12-15T19:11:33.673684Z"
    }
   },
   "outputs": [],
   "source": [
    "Xu, yu = rus.fit_resample(X, y)"
   ]
  },
  {
   "cell_type": "code",
   "execution_count": null,
   "metadata": {
    "ExecuteTime": {
     "end_time": "2020-12-15T19:11:33.706813Z",
     "start_time": "2020-12-15T19:11:33.690460Z"
    }
   },
   "outputs": [],
   "source": [
    "Counter(yu)"
   ]
  },
  {
   "cell_type": "code",
   "execution_count": null,
   "metadata": {
    "ExecuteTime": {
     "end_time": "2020-12-15T19:11:33.955614Z",
     "start_time": "2020-12-15T19:11:33.708577Z"
    }
   },
   "outputs": [],
   "source": [
    "plot(Xu, yu, title=\"Ejemplo de undersampling\")"
   ]
  },
  {
   "cell_type": "markdown",
   "metadata": {},
   "source": [
    "## Oversampling"
   ]
  },
  {
   "cell_type": "markdown",
   "metadata": {
    "ExecuteTime": {
     "end_time": "2020-12-15T18:22:25.351786Z",
     "start_time": "2020-12-15T18:22:25.341201Z"
    }
   },
   "source": [
    "Ahora vamos a probar con  undersampling (SMOTE)"
   ]
  },
  {
   "cell_type": "code",
   "execution_count": null,
   "metadata": {
    "ExecuteTime": {
     "end_time": "2020-12-15T19:11:33.961153Z",
     "start_time": "2020-12-15T19:11:33.957522Z"
    }
   },
   "outputs": [],
   "source": [
    "from imblearn.over_sampling import SMOTE"
   ]
  },
  {
   "cell_type": "code",
   "execution_count": null,
   "metadata": {
    "ExecuteTime": {
     "end_time": "2020-12-15T19:11:33.982823Z",
     "start_time": "2020-12-15T19:11:33.967565Z"
    }
   },
   "outputs": [],
   "source": [
    "Xo, yo = SMOTE().fit_resample(X, y)"
   ]
  },
  {
   "cell_type": "code",
   "execution_count": null,
   "metadata": {
    "ExecuteTime": {
     "end_time": "2020-12-15T19:11:34.000064Z",
     "start_time": "2020-12-15T19:11:33.985198Z"
    }
   },
   "outputs": [],
   "source": [
    "Counter(yo)"
   ]
  },
  {
   "cell_type": "code",
   "execution_count": null,
   "metadata": {
    "ExecuteTime": {
     "end_time": "2020-12-15T19:11:34.270281Z",
     "start_time": "2020-12-15T19:11:34.005304Z"
    }
   },
   "outputs": [],
   "source": [
    "plot(Xo, yo, title=\"Ejemplo de oversampling\")"
   ]
  },
  {
   "cell_type": "markdown",
   "metadata": {},
   "source": [
    "# Aplicando misma Etiqueta a varios ficheros"
   ]
  },
  {
   "cell_type": "markdown",
   "metadata": {},
   "source": [
    "Hay que tener cuidado aplicando etiquetas a ficheros distintos"
   ]
  },
  {
   "cell_type": "code",
   "execution_count": null,
   "metadata": {
    "ExecuteTime": {
     "end_time": "2020-12-15T19:11:34.278268Z",
     "start_time": "2020-12-15T19:11:34.272494Z"
    }
   },
   "outputs": [],
   "source": [
    "import pandas as pd"
   ]
  },
  {
   "cell_type": "markdown",
   "metadata": {
    "ExecuteTime": {
     "end_time": "2020-12-15T18:27:30.334348Z",
     "start_time": "2020-12-15T18:27:30.324539Z"
    }
   },
   "source": [
    "Como sólo quiero mostrar el problema de etiquetado ignoro los nulos"
   ]
  },
  {
   "cell_type": "code",
   "execution_count": null,
   "metadata": {
    "ExecuteTime": {
     "end_time": "2020-12-15T19:11:34.322041Z",
     "start_time": "2020-12-15T19:11:34.280266Z"
    }
   },
   "outputs": [],
   "source": [
    "df_train = pd.read_csv(\"train.csv\").dropna()"
   ]
  },
  {
   "cell_type": "code",
   "execution_count": null,
   "metadata": {
    "ExecuteTime": {
     "end_time": "2020-12-15T19:11:34.350451Z",
     "start_time": "2020-12-15T19:11:34.330512Z"
    }
   },
   "outputs": [],
   "source": [
    "df_test = pd.read_csv(\"test.csv\").dropna()"
   ]
  },
  {
   "cell_type": "markdown",
   "metadata": {
    "ExecuteTime": {
     "end_time": "2020-12-15T18:25:53.146463Z",
     "start_time": "2020-12-15T18:25:53.140382Z"
    }
   },
   "source": [
    "Vamos a etiquetar un atributo cualquiera, como Asientos"
   ]
  },
  {
   "cell_type": "code",
   "execution_count": null,
   "metadata": {
    "ExecuteTime": {
     "end_time": "2020-12-15T19:11:34.360196Z",
     "start_time": "2020-12-15T19:11:34.354060Z"
    }
   },
   "outputs": [],
   "source": [
    "df_train.Asientos.head()"
   ]
  },
  {
   "cell_type": "code",
   "execution_count": null,
   "metadata": {
    "ExecuteTime": {
     "end_time": "2020-12-15T19:11:34.379772Z",
     "start_time": "2020-12-15T19:11:34.362886Z"
    }
   },
   "outputs": [],
   "source": [
    "df_test.Asientos.head()"
   ]
  },
  {
   "cell_type": "markdown",
   "metadata": {},
   "source": [
    "## Forma errónea de hacerlo"
   ]
  },
  {
   "cell_type": "code",
   "execution_count": null,
   "metadata": {
    "ExecuteTime": {
     "end_time": "2020-12-15T19:11:34.397492Z",
     "start_time": "2020-12-15T19:11:34.382530Z"
    }
   },
   "outputs": [],
   "source": [
    "from sklearn.preprocessing import LabelEncoder"
   ]
  },
  {
   "cell_type": "code",
   "execution_count": null,
   "metadata": {
    "ExecuteTime": {
     "end_time": "2020-12-15T19:11:34.416704Z",
     "start_time": "2020-12-15T19:11:34.400287Z"
    }
   },
   "outputs": [],
   "source": [
    "df_train_orig = df_train.copy()\n",
    "df_test_orig = df_test.copy()"
   ]
  },
  {
   "cell_type": "markdown",
   "metadata": {},
   "source": [
    "Aplicamos el etiquetado de forma independiente a cada uno"
   ]
  },
  {
   "cell_type": "code",
   "execution_count": null,
   "metadata": {
    "ExecuteTime": {
     "end_time": "2020-12-15T19:11:34.447003Z",
     "start_time": "2020-12-15T19:11:34.419008Z"
    }
   },
   "outputs": [],
   "source": [
    "df_train.Asientos = LabelEncoder().fit_transform(df_train_orig.Asientos)"
   ]
  },
  {
   "cell_type": "code",
   "execution_count": null,
   "metadata": {
    "ExecuteTime": {
     "end_time": "2020-12-15T19:11:34.467108Z",
     "start_time": "2020-12-15T19:11:34.450769Z"
    }
   },
   "outputs": [],
   "source": [
    "df_test.Asientos = LabelEncoder().fit_transform(df_test_orig.Asientos)"
   ]
  },
  {
   "cell_type": "code",
   "execution_count": null,
   "metadata": {
    "ExecuteTime": {
     "end_time": "2020-12-15T19:11:34.487685Z",
     "start_time": "2020-12-15T19:11:34.469164Z"
    }
   },
   "outputs": [],
   "source": [
    "df_train.Asientos.head()"
   ]
  },
  {
   "cell_type": "code",
   "execution_count": null,
   "metadata": {
    "ExecuteTime": {
     "end_time": "2020-12-15T19:11:34.515973Z",
     "start_time": "2020-12-15T19:11:34.489634Z"
    }
   },
   "outputs": [],
   "source": [
    "df_test.Asientos.head()"
   ]
  },
  {
   "cell_type": "code",
   "execution_count": null,
   "metadata": {
    "ExecuteTime": {
     "end_time": "2020-12-15T19:11:34.537973Z",
     "start_time": "2020-12-15T19:11:34.517957Z"
    }
   },
   "outputs": [],
   "source": [
    "for asientos in df_train_orig.Asientos.unique():\n",
    "    label_train = df_train.Asientos[df_train_orig.Asientos == asientos].unique()\n",
    "    label_test = df_test.Asientos[df_test_orig.Asientos == asientos].unique()\n",
    "    \n",
    "    \n",
    "    if len(label_train)==0 or len(label_test)==0:\n",
    "        continue\n",
    "    \n",
    "    if label_train != label_test:\n",
    "        print(\"Error, {} es etiquetado en train como {} y en test como {}\".format(asientos, label_train[0], label_test[0]))\n",
    "        break"
   ]
  },
  {
   "cell_type": "markdown",
   "metadata": {},
   "source": [
    "Ese problema puede hacer que las predicciones sobre el de test sean mucho peores."
   ]
  },
  {
   "cell_type": "markdown",
   "metadata": {
    "ExecuteTime": {
     "end_time": "2020-12-15T18:54:59.100235Z",
     "start_time": "2020-12-15T18:54:59.095507Z"
    }
   },
   "source": [
    "## Forma correcta de hacerlo"
   ]
  },
  {
   "cell_type": "markdown",
   "metadata": {},
   "source": [
    "La solución sería aprender a partir del fichero del mismo nombre con todos los datos"
   ]
  },
  {
   "cell_type": "markdown",
   "metadata": {},
   "source": [
    "Primero aprendemos las etiquetas a partir de todos"
   ]
  },
  {
   "cell_type": "code",
   "execution_count": null,
   "metadata": {
    "ExecuteTime": {
     "end_time": "2020-12-15T19:11:34.564653Z",
     "start_time": "2020-12-15T19:11:34.540140Z"
    }
   },
   "outputs": [],
   "source": [
    "labelAsientos = LabelEncoder().fit(pd.read_csv(\"asientos.csv\").Asientos)"
   ]
  },
  {
   "cell_type": "markdown",
   "metadata": {},
   "source": [
    "Ahora usamos el mismo labelAsientos a ambos"
   ]
  },
  {
   "cell_type": "code",
   "execution_count": null,
   "metadata": {
    "ExecuteTime": {
     "end_time": "2020-12-15T19:11:34.589776Z",
     "start_time": "2020-12-15T19:11:34.566752Z"
    }
   },
   "outputs": [],
   "source": [
    "df_train.Asientos = labelAsientos.transform(df_train_orig.Asientos)\n",
    "df_test.Asientos = labelAsientos.transform(df_test_orig.Asientos)"
   ]
  },
  {
   "cell_type": "code",
   "execution_count": null,
   "metadata": {
    "ExecuteTime": {
     "end_time": "2020-12-15T19:11:34.617484Z",
     "start_time": "2020-12-15T19:11:34.592057Z"
    }
   },
   "outputs": [],
   "source": [
    "df_train.Asientos.head()"
   ]
  },
  {
   "cell_type": "code",
   "execution_count": null,
   "metadata": {
    "ExecuteTime": {
     "end_time": "2020-12-15T19:11:34.641043Z",
     "start_time": "2020-12-15T19:11:34.619424Z"
    }
   },
   "outputs": [],
   "source": [
    "df_test.Asientos.head()"
   ]
  },
  {
   "cell_type": "markdown",
   "metadata": {},
   "source": [
    "Ahora si comprobamos de nuevo"
   ]
  },
  {
   "cell_type": "code",
   "execution_count": null,
   "metadata": {
    "ExecuteTime": {
     "end_time": "2020-12-15T19:11:34.674154Z",
     "start_time": "2020-12-15T19:11:34.644256Z"
    }
   },
   "outputs": [],
   "source": [
    "for asientos in df_train_orig.Asientos.unique():\n",
    "    label_train = df_train.Asientos[df_train_orig.Asientos == asientos].unique()\n",
    "    label_test = df_test.Asientos[df_test_orig.Asientos == asientos].unique()\n",
    "    \n",
    "    if len(label_train)==0 or len(label_test)==0:\n",
    "        continue\n",
    "    \n",
    "    if label_train != label_test:\n",
    "        print(\"Error, {} es etiquetado en train como {} y en test como {}\".format(asientos, label_train, label_test))\n",
    "        break"
   ]
  },
  {
   "cell_type": "markdown",
   "metadata": {},
   "source": [
    "Vemos que ahora las etiquetas coinciden"
   ]
  }
 ],
 "metadata": {
  "@webio": {
   "lastCommId": null,
   "lastKernelId": null
  },
  "jupytext": {
   "formats": "ipynb,md"
  },
  "kernelspec": {
   "display_name": "Python 3",
   "language": "python",
   "name": "python3"
  },
  "language_info": {
   "codemirror_mode": {
    "name": "ipython",
    "version": 3
   },
   "file_extension": ".py",
   "mimetype": "text/x-python",
   "name": "python",
   "nbconvert_exporter": "python",
   "pygments_lexer": "ipython3",
   "version": "3.8.3"
  },
  "toc": {
   "base_numbering": 1,
   "nav_menu": {},
   "number_sections": true,
   "sideBar": true,
   "skip_h1_title": false,
   "title_cell": "Table of Contents",
   "title_sidebar": "Contents",
   "toc_cell": false,
   "toc_position": {},
   "toc_section_display": true,
   "toc_window_display": false
  },
  "varInspector": {
   "cols": {
    "lenName": 16,
    "lenType": 16,
    "lenVar": 40
   },
   "kernels_config": {
    "python": {
     "delete_cmd_postfix": "",
     "delete_cmd_prefix": "del ",
     "library": "var_list.py",
     "varRefreshCmd": "print(var_dic_list())"
    },
    "r": {
     "delete_cmd_postfix": ") ",
     "delete_cmd_prefix": "rm(",
     "library": "var_list.r",
     "varRefreshCmd": "cat(var_dic_list()) "
    }
   },
   "types_to_exclude": [
    "module",
    "function",
    "builtin_function_or_method",
    "instance",
    "_Feature"
   ],
   "window_display": false
  }
 },
 "nbformat": 4,
 "nbformat_minor": 4
}
