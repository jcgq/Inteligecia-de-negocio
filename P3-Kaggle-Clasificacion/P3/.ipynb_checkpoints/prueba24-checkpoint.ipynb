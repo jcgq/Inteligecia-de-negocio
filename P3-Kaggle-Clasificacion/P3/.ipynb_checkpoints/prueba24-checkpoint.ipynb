{
 "cells": [
  {
   "cell_type": "code",
   "execution_count": 7,
   "metadata": {},
   "outputs": [],
   "source": [
    "import pandas as pd\n",
    "import numpy as np\n",
    "import time\n",
    "import seaborn as sns\n",
    "import matplotlib.pyplot as plt\n",
    "from sklearn import preprocessing as pp\n",
    "from sklearn.model_selection import StratifiedKFold\n",
    "from sklearn.metrics import accuracy_score\n",
    "from sklearn import preprocessing\n",
    "import xgboost as xgb\n",
    "from sklearn.ensemble import BaggingClassifier\n",
    "import lightgbm as lgb\n",
    "from sklearn.naive_bayes import GaussianNB\n",
    "from sklearn import preprocessing as pp\n",
    "from sklearn.neighbors import KNeighborsClassifier\n",
    "from sklearn import tree\n",
    "from sklearn.model_selection import cross_val_score\n",
    "from sklearn.model_selection import cross_val_predict\n",
    "from statistics import mode\n",
    "from sklearn.model_selection import cross_val_score, cross_validate, train_test_split\n",
    "from sklearn.ensemble import RandomForestClassifier\n",
    "from sklearn.neighbors import KNeighborsClassifier\n",
    "import xgboost as xgb\n",
    "import lightgbm as lgb\n",
    "\n",
    "#Todas las librerías para los distintos algoritmos\n",
    "from sklearn.naive_bayes import GaussianNB\n",
    "from sklearn.naive_bayes import ComplementNB\n",
    "from sklearn.naive_bayes import BernoulliNB\n",
    "from sklearn.naive_bayes import MultinomialNB\n",
    "from sklearn.calibration import CalibratedClassifierCV\n",
    "from sklearn.svm import LinearSVC\n",
    "from sklearn.svm import OneClassSVM\n",
    "from sklearn.svm import SVC\n",
    "from sklearn.svm import NuSVC\n",
    "from sklearn.ensemble import RandomForestClassifier\n",
    "from sklearn.neighbors import KNeighborsClassifier\n",
    "import matplotlib.pyplot as plt\n",
    "import sklearn.metrics as metrics\n",
    "from sklearn.neural_network import MLPClassifier\n",
    "from sklearn.ensemble import BaggingClassifier\n",
    "import statistics\n",
    "from sklearn.preprocessing import LabelEncoder\n",
    "\n",
    "from sklearn.metrics import confusion_matrix\n",
    "from sklearn.metrics import classification_report\n",
    "from sklearn.model_selection import train_test_split\n",
    "from sklearn.linear_model import LogisticRegression\n",
    "from sklearn.decomposition import PCA\n",
    "from sklearn.tree import DecisionTreeClassifier\n",
    "from sklearn.ensemble import RandomForestClassifier\n",
    "from sklearn.pipeline import make_pipeline\n",
    "from sklearn.preprocessing import StandardScaler\n",
    "import warnings\n",
    "from mlxtend.classifier import StackingClassifier\n",
    "from mlxtend.classifier import StackingCVClassifier\n",
    "from sklearn.neural_network import MLPClassifier\n",
    "from sklearn.ensemble import GradientBoostingClassifier\n",
    "from pylab import rcParams\n",
    " \n",
    "from collections import Counter\n",
    "\n",
    "warnings.simplefilter('ignore')\n"
   ]
  },
  {
   "cell_type": "code",
   "execution_count": 8,
   "metadata": {},
   "outputs": [],
   "source": [
    "data_train= pd.read_csv(\"./datos/train.csv\",na_values=[\"?\"])\n",
    "data_test= pd.read_csv(\"./datos/test.csv\",na_values=[\"?\"])\n",
    "data_trainCopia = data_train.copy()\n",
    "data_testCopia = data_test.copy()\n",
    "Nombre = LabelEncoder().fit(pd.read_csv(\"./datos/nombre.csv\").Nombre)\n",
    "Año = LabelEncoder().fit(pd.read_csv(\"./datos/ao.csv\").Año)\n",
    "Ciudad = LabelEncoder().fit(pd.read_csv(\"./datos/ciudad.csv\").Ciudad)\n",
    "Combustible = LabelEncoder().fit(pd.read_csv(\"./datos/combustible.csv\").Combustible)\n",
    "Consumo = LabelEncoder().fit(pd.read_csv(\"./datos/consumo.csv\").Consumo)\n",
    "Descuento = LabelEncoder().fit(pd.read_csv(\"./datos/descuento.csv\").Descuento)\n",
    "Kilometros = LabelEncoder().fit(pd.read_csv(\"./datos/kilometros.csv\").Kilometros)\n",
    "Mano = LabelEncoder().fit(pd.read_csv(\"./datos/mano.csv\").Mano)\n",
    "Potencia = LabelEncoder().fit(pd.read_csv(\"./datos/potencia.csv\").Potencia)\n",
    "Asientos = LabelEncoder().fit(pd.read_csv(\"./datos/asientos.csv\").Asientos)\n",
    "Motor_CC=LabelEncoder().fit(pd.read_csv(\"./datos/motor_cc.csv\").Motor_CC)\n",
    "Tipo_marchas=LabelEncoder().fit(pd.read_csv(\"./datos/Tipo_marchas.csv\").Tipo_marchas)\n",
    "\n",
    "data_trainCopia['Nombre']=data_trainCopia['Nombre'].fillna(mode(data_trainCopia['Nombre']))\n",
    "data_trainCopia['Año']=data_trainCopia['Año'].fillna(mode(data_trainCopia['Año']))\n",
    "data_trainCopia['Ciudad']=data_trainCopia['Ciudad'].fillna(mode(data_trainCopia['Ciudad']))\n",
    "data_trainCopia['Kilometros']=data_trainCopia['Kilometros'].fillna(mode(data_trainCopia['Kilometros']))\n",
    "data_trainCopia['Combustible']=data_trainCopia['Combustible'].fillna(mode(data_trainCopia['Combustible']))\n",
    "data_trainCopia['Tipo_marchas']=data_trainCopia['Tipo_marchas'].fillna(mode(data_trainCopia['Tipo_marchas']))\n",
    "data_trainCopia['Mano']=data_trainCopia['Mano'].fillna(mode(data_trainCopia['Mano']))\n",
    "data_trainCopia['Consumo']=data_trainCopia['Consumo'].fillna(mode(data_trainCopia['Consumo']))\n",
    "data_trainCopia['Motor_CC']=data_trainCopia['Motor_CC'].fillna(mode(data_trainCopia['Motor_CC']))\n",
    "data_trainCopia['Potencia']=data_trainCopia['Potencia'].fillna(mode(data_trainCopia['Potencia']))\n",
    "data_trainCopia['Asientos']=data_trainCopia['Asientos'].fillna(mode(data_trainCopia['Asientos']))\n",
    "data_trainCopia['Descuento']=data_trainCopia['Descuento'].fillna(mode(data_trainCopia['Descuento']))\n",
    "\n",
    "#Eliminamos las columnas que no necesitamos\n",
    "data_trainCopia=data_trainCopia.drop(['Descuento'], axis=1)\n",
    "data_trainCopia=data_trainCopia.drop(['Kilometros'], axis=1)\n",
    "data_trainCopia=data_trainCopia.drop(['id'], axis=1)\n",
    "data_testCopia=data_testCopia.drop(['Descuento'], axis=1)\n",
    "data_testCopia=data_testCopia.drop(['id'], axis=1)\n",
    "data_testCopia=data_testCopia.drop(['Kilometros'], axis=1)\n",
    "\n",
    "#Eliminamos los nan de los ids\n",
    "data_trainCopia=data_trainCopia.dropna() \n",
    "data_testCopia=data_testCopia.dropna() \n",
    "\n",
    "#Codificación de las filas\n",
    "data_trainCopia.Nombre = Nombre.transform(data_trainCopia.Nombre)\n",
    "data_trainCopia.Año = Año.transform(data_trainCopia.Año)\n",
    "data_trainCopia.Ciudad = Ciudad.transform(data_trainCopia.Ciudad)\n",
    "data_trainCopia.Combustible = Combustible.transform(data_trainCopia.Combustible)\n",
    "data_trainCopia.Potencia = Potencia.transform(data_trainCopia.Potencia)\n",
    "data_trainCopia.Consumo = Consumo.transform(data_trainCopia.Consumo)\n",
    "#data_trainCopia.Kilometros = Kilometros.transform(data_trainCopia.Kilometros)\n",
    "data_trainCopia.Mano = Mano.transform(data_trainCopia.Mano)\n",
    "data_trainCopia.Motor_CC = Motor_CC.transform(data_trainCopia.Motor_CC)\n",
    "data_trainCopia.Tipo_marchas = Tipo_marchas.transform(data_trainCopia.Tipo_marchas)\n",
    "data_trainCopia.Asientos = Asientos.transform(data_trainCopia.Asientos)\n",
    "#-------------------------------------------------------------------------------------------\n",
    "data_testCopia.Nombre = Nombre.transform(data_testCopia.Nombre)\n",
    "data_testCopia.Año = Año.transform(data_testCopia.Año)\n",
    "data_testCopia.Ciudad = Ciudad.transform(data_testCopia.Ciudad)\n",
    "data_testCopia.Combustible = Combustible.transform(data_testCopia.Combustible)\n",
    "data_testCopia.Potencia = Potencia.transform(data_testCopia.Potencia)\n",
    "data_testCopia.Consumo = Consumo.transform(data_testCopia.Consumo)\n",
    "#data_testCopia.Kilometros = Kilometros.transform(data_testCopia.Kilometros)\n",
    "data_testCopia.Mano = Mano.transform(data_testCopia.Mano)\n",
    "data_testCopia.Tipo_marchas = Tipo_marchas.transform(data_testCopia.Tipo_marchas)\n",
    "data_testCopia.Asientos = Asientos.transform(data_testCopia.Asientos)\n",
    "data_testCopia.Motor_CC = Motor_CC.transform(data_testCopia.Motor_CC)\n",
    "\n",
    "target = pd.read_csv('./datos/precio_cat.csv')\n",
    "target_train=data_trainCopia['Precio_cat']\n",
    "data_trainCopia=data_trainCopia.drop(['Precio_cat'], axis=1)"
   ]
  },
  {
   "cell_type": "code",
   "execution_count": null,
   "metadata": {},
   "outputs": [],
   "source": [
    "GradientBoostingClassifier(criterion='friedman_mse', init=None,\n",
    " learning_rate=0.1, loss='deviance', max_depth=3,\n",
    " max_features=None, max_leaf_nodes=None,\n",
    " min_impurity_split=1e-07, min_samples_leaf=1,\n",
    " min_samples_split=2, min_weight_fraction_leaf=0.0,\n",
    " n_estimators=100, presort='auto', random_state=None,\n",
    " subsample=1.0, verbose=0, warm_start=False)"
   ]
  },
  {
   "cell_type": "code",
   "execution_count": 9,
   "metadata": {},
   "outputs": [],
   "source": [
    "from imblearn.over_sampling import SMOTE\n",
    "Xo, yo = SMOTE(random_state=42).fit_resample(data_trainCopia, target_train)"
   ]
  },
  {
   "cell_type": "code",
   "execution_count": 5,
   "metadata": {},
   "outputs": [
    {
     "name": "stdout",
     "output_type": "stream",
     "text": [
      "Score Validacion Cruzada 86.74643350207087\n"
     ]
    }
   ],
   "source": [
    "clf = GradientBoostingClassifier(learning_rate=0.07, n_estimators=700, max_depth=2)\n",
    "\n",
    "scores = cross_val_score(clf, Xo, yo, cv=5, scoring='accuracy')\n",
    "print(\"Score Validacion Cruzada\", np.mean(scores)*100)\n",
    "\n",
    "clfEntrenado = clf.fit(Xo, yo)\n",
    "preclf = clfEntrenado.predict(data_testCopia)"
   ]
  },
  {
   "cell_type": "code",
   "execution_count": 6,
   "metadata": {},
   "outputs": [
    {
     "name": "stdout",
     "output_type": "stream",
     "text": [
      "Score Validacion Cruzada 87.47353888633226\n"
     ]
    }
   ],
   "source": [
    "clf = GradientBoostingClassifier(learning_rate=0.09, n_estimators=700, max_depth=2)\n",
    "\n",
    "scores = cross_val_score(clf, Xo, yo, cv=5, scoring='accuracy')\n",
    "print(\"Score Validacion Cruzada\", np.mean(scores)*100)\n",
    "\n",
    "clfEntrenado = clf.fit(Xo, yo)\n",
    "preclf = clfEntrenado.predict(data_testCopia)"
   ]
  },
  {
   "cell_type": "code",
   "execution_count": 15,
   "metadata": {},
   "outputs": [
    {
     "name": "stdout",
     "output_type": "stream",
     "text": [
      "Score Validacion Cruzada 89.5904279797515\n"
     ]
    }
   ],
   "source": [
    "clf = GradientBoostingClassifier(learning_rate=0.9, n_estimators=750, max_depth=2)\n",
    "\n",
    "scores = cross_val_score(clf, Xo, yo, cv=5, scoring='accuracy')\n",
    "print(\"Score Validacion Cruzada\", np.mean(scores)*100)\n",
    "\n",
    "clfEntrenado = clf.fit(Xo, yo)\n",
    "preclfOverGradient = clfEntrenado.predict(data_testCopia)\n",
    "\n",
    "\n",
    "dfAux = pd.DataFrame({'id':data_test['id']})\n",
    "dfAux.set_index('id', inplace=True)\n",
    "dfFinal = pd.DataFrame({'id': data_test['id'], 'Precio_cat': preclfOverGradient}, columns=['id', 'Precio_cat'])\n",
    "dfFinal.set_index('id', inplace=True)\n",
    "dfFinal.to_csv(\"./soluciones/GradientOverSamplingConRandomStateScoreLocal895628.csv\")"
   ]
  },
  {
   "cell_type": "code",
   "execution_count": 21,
   "metadata": {},
   "outputs": [
    {
     "name": "stdout",
     "output_type": "stream",
     "text": [
      "Score Validacion Cruzada 89.12103083294983\n"
     ]
    }
   ],
   "source": [
    "clf = GradientBoostingClassifier(learning_rate=0.055, n_estimators=2500, max_depth=2)\n",
    "\n",
    "scores = cross_val_score(clf, Xo, yo, cv=5, scoring='accuracy')\n",
    "print(\"Score Validacion Cruzada\", np.mean(scores)*100)\n",
    "\n",
    "clfEntrenado = clf.fit(Xo, yo)\n",
    "preclfOverGradient = clfEntrenado.predict(data_testCopia)"
   ]
  },
  {
   "cell_type": "code",
   "execution_count": 5,
   "metadata": {},
   "outputs": [
    {
     "name": "stdout",
     "output_type": "stream",
     "text": [
      "Score Validacion Cruzada 90.57524160147261\n"
     ]
    }
   ],
   "source": [
    "clf = GradientBoostingClassifier(learning_rate=0.5, n_estimators=400)\n",
    "\n",
    "scores = cross_val_score(clf, Xo, yo, cv=5, scoring='accuracy')\n",
    "print(\"Score Validacion Cruzada\", np.mean(scores)*100)\n",
    "\n",
    "clfEntrenado = clf.fit(Xo, yo)\n",
    "preclfOverGradient = clfEntrenado.predict(data_testCopia)"
   ]
  },
  {
   "cell_type": "code",
   "execution_count": 14,
   "metadata": {},
   "outputs": [
    {
     "name": "stdout",
     "output_type": "stream",
     "text": [
      "Score Validacion Cruzada 91.16428900138057\n"
     ]
    }
   ],
   "source": [
    "#ESTO ME HA DICHO QUE ES LO QUE ME VA A SUBIR\n",
    "clf = GradientBoostingClassifier(learning_rate=0.5, n_estimators=100, max_depth=6, random_state=42)\n",
    "\n",
    "scores = cross_val_score(clf, Xo, yo, cv=5, scoring='accuracy')\n",
    "print(\"Score Validacion Cruzada\", np.mean(scores)*100)\n",
    "\n",
    "clfEntrenado = clf.fit(Xo, yo)\n",
    "preclfOverGradient = clfEntrenado.predict(data_testCopia)"
   ]
  },
  {
   "cell_type": "code",
   "execution_count": 23,
   "metadata": {},
   "outputs": [
    {
     "name": "stdout",
     "output_type": "stream",
     "text": [
      "Score Validacion Cruzada CON MODELO 91.07225034514498\n"
     ]
    }
   ],
   "source": [
    "lgbm1 = lgb.LGBMClassifier(learning_rate=0.5, objective='binary', n_estimators=550, n_jobs=2, \n",
    "                          num_leaves=11, max_depth=-1, reg_alpha=0.1)\n",
    "\n",
    "scores = cross_val_score(lgbm1, Xo, yo, cv=5, scoring='accuracy')\n",
    "print(\"Score Validacion Cruzada CON MODELO\", np.mean(scores)*100)\n",
    "\n",
    "lgbmEntrenado = lgbm1.fit(Xo, yo)\n",
    "preMamaJuanca = lgbmEntrenado.predict(data_testCopia)"
   ]
  },
  {
   "cell_type": "code",
   "execution_count": 10,
   "metadata": {},
   "outputs": [
    {
     "name": "stdout",
     "output_type": "stream",
     "text": [
      "Score Validacion Cruzada CON MODELO 91.35757017947539\n"
     ]
    }
   ],
   "source": [
    "lgbm1 = lgb.LGBMClassifier(learning_rate=0.2, objective='binary', n_estimators=550, n_jobs=2, \n",
    "                          num_leaves=11, max_depth=-1)\n",
    "\n",
    "scores = cross_val_score(lgbm1, Xo, yo, cv=5, scoring='accuracy')\n",
    "print(\"Score Validacion Cruzada CON MODELO\", np.mean(scores)*100)\n",
    "\n",
    "lgbmEntrenado = lgbm1.fit(Xo, yo)\n",
    "preMamaJuanca = lgbmEntrenado.predict(data_testCopia)"
   ]
  },
  {
   "cell_type": "code",
   "execution_count": 3,
   "metadata": {},
   "outputs": [
    {
     "name": "stdout",
     "output_type": "stream",
     "text": [
      "Score Validacion Cruzada CON MODELO 82.22050912317675\n"
     ]
    }
   ],
   "source": [
    "lgbm1 = lgb.LGBMClassifier(learning_rate=0.2, objective='binary', n_estimators=550, n_jobs=2, \n",
    "                          num_leaves=11, max_depth=-1)\n",
    "\n",
    "scores = cross_val_score(lgbm1, data_trainCopia, target_train, cv=5, scoring='accuracy')\n",
    "print(\"Score Validacion Cruzada CON MODELO\", np.mean(scores)*100)\n",
    "\n",
    "lgbmEntrenado = lgbm1.fit(data_trainCopia, target_train)\n",
    "preMamaJuanca = lgbmEntrenado.predict(data_testCopia)"
   ]
  },
  {
   "cell_type": "code",
   "execution_count": 4,
   "metadata": {},
   "outputs": [
    {
     "name": "stdout",
     "output_type": "stream",
     "text": [
      "Score Validacion Cruzada CON MODELO 83.1895735122844\n"
     ]
    }
   ],
   "source": [
    "lgbm1 = lgb.LGBMClassifier(learning_rate=0.3, objective='binary', n_estimators=60, n_jobs=2, num_leaves=8, max_depth=8)\n",
    "\n",
    "scores = cross_val_score(lgbm1, data_trainCopia, target_train, cv=5, scoring='accuracy')\n",
    "print(\"Score Validacion Cruzada CON MODELO\", np.mean(scores)*100)\n",
    "\n",
    "lgbmEntrenado = lgbm1.fit(data_trainCopia, target_train)\n",
    "preMamaJuanca = lgbmEntrenado.predict(data_testCopia)"
   ]
  },
  {
   "cell_type": "code",
   "execution_count": 33,
   "metadata": {},
   "outputs": [
    {
     "name": "stdout",
     "output_type": "stream",
     "text": [
      "Score Validacion Cruzada CON MODELO 91.10906580763923\n"
     ]
    }
   ],
   "source": [
    "lgbm1 = lgb.LGBMClassifier(learning_rate=0.3, objective='binary', n_estimators=500, n_jobs=2, \n",
    "                          num_leaves=11, max_depth=-1)\n",
    "\n",
    "scores = cross_val_score(lgbm1, Xo, yo, cv=5, scoring='accuracy')\n",
    "print(\"Score Validacion Cruzada CON MODELO\", np.mean(scores)*100)\n",
    "\n",
    "lgbmEntrenado = lgbm1.fit(Xo, yo)\n",
    "preMamaJuanca = lgbmEntrenado.predict(data_testCopia)"
   ]
  },
  {
   "cell_type": "code",
   "execution_count": 6,
   "metadata": {},
   "outputs": [
    {
     "name": "stdout",
     "output_type": "stream",
     "text": [
      "Score Validacion Cruzada CON MODELO 83.1895735122844\n"
     ]
    }
   ],
   "source": [
    "lgbm1 = lgb.LGBMClassifier(learning_rate=0.3, objective='binary', n_estimators=60, n_jobs=2, num_leaves=8, max_depth=8)\n",
    "\n",
    "scores = cross_val_score(lgbm1, data_trainCopia, target_train, cv=5, scoring='accuracy')\n",
    "print(\"Score Validacion Cruzada CON MODELO\", np.mean(scores)*100)\n",
    "\n",
    "lgbmEntrenado = lgbm1.fit(data_trainCopia, target_train)\n",
    "preMamaJuanca = lgbmEntrenado.predict(data_testCopia)"
   ]
  },
  {
   "cell_type": "code",
   "execution_count": 5,
   "metadata": {},
   "outputs": [
    {
     "name": "stdout",
     "output_type": "stream",
     "text": [
      "{'learning_rate': 0.3, 'max_depth': 4, 'n_estimators': 70}\n",
      "0.8325270922300483\n"
     ]
    }
   ],
   "source": [
    "parametros={\n",
    "    'max_depth':range(2,10,2),\n",
    "    'n_estimators':range(20,80,10),\n",
    "    'learning_rate': [0.3,0.5,0.7]\n",
    "}\n",
    "from sklearn.model_selection import GridSearchCV\n",
    "clf = GradientBoostingClassifier()\n",
    "\n",
    "gsearch = GridSearchCV(clf, param_grid=parametros, scoring='accuracy', n_jobs=-1, cv=5)\n",
    "\n",
    "gsearch.fit(data_trainCopia, target_train)\n",
    "\n",
    "print(gsearch.best_params_)\n",
    "print(gsearch.best_score_)"
   ]
  },
  {
   "cell_type": "code",
   "execution_count": 26,
   "metadata": {},
   "outputs": [
    {
     "name": "stdout",
     "output_type": "stream",
     "text": [
      "Score Validacion Cruzada 83.252664854972\n"
     ]
    }
   ],
   "source": [
    "#ESTO ME HA DICHO QUE ES LO QUE ME VA A SUBIR\n",
    "clf = GradientBoostingClassifier(learning_rate=0.3, n_estimators=70, max_depth=4)\n",
    "\n",
    "scores = cross_val_score(clf, data_trainCopia, target_train, cv=5, scoring='accuracy')\n",
    "print(\"Score Validacion Cruzada\", np.mean(scores)*100)\n",
    "\n",
    "clfEntrenado = clf.fit(data_trainCopia, target_train)\n",
    "preclfOverGradient = clfEntrenado.predict(data_testCopia)"
   ]
  },
  {
   "cell_type": "code",
   "execution_count": 15,
   "metadata": {},
   "outputs": [
    {
     "name": "stdout",
     "output_type": "stream",
     "text": [
      "{'learning_rate': 0.5, 'max_depth': 5, 'n_estimators': 70}\n",
      "0.9084215370455592\n"
     ]
    }
   ],
   "source": [
    "parametros={\n",
    "    'max_depth':range(5,10,5),\n",
    "    'n_estimators':range(20,80,10),\n",
    "    'learning_rate': [0.3,0.5,0.7]\n",
    "}\n",
    "from sklearn.model_selection import GridSearchCV\n",
    "clf = GradientBoostingClassifier(random_state=42)\n",
    "\n",
    "gsearch = GridSearchCV(clf, param_grid=parametros, scoring='accuracy', n_jobs=-1, cv=5)\n",
    "\n",
    "gsearch.fit(Xo, yo)\n",
    "\n",
    "print(gsearch.best_params_)\n",
    "print(gsearch.best_score_)"
   ]
  },
  {
   "cell_type": "code",
   "execution_count": 5,
   "metadata": {},
   "outputs": [],
   "source": [
    "from imblearn.over_sampling import SMOTE\n",
    "Xo, yo = SMOTE(random_state=42).fit_resample(data_trainCopia, target_train)"
   ]
  },
  {
   "cell_type": "code",
   "execution_count": 6,
   "metadata": {},
   "outputs": [
    {
     "name": "stdout",
     "output_type": "stream",
     "text": [
      "Score Validacion Cruzada 90.84215370455591\n"
     ]
    }
   ],
   "source": [
    "#ESTO ME HA DICHO QUE ES LO QUE ME VA A SUBIR\n",
    "clf = GradientBoostingClassifier(learning_rate=0.5, n_estimators=70, max_depth=5, random_state=42)\n",
    "\n",
    "scores = cross_val_score(clf, Xo, yo, cv=5, scoring='accuracy')\n",
    "print(\"Score Validacion Cruzada\", np.mean(scores)*100)\n",
    "\n",
    "clfEntrenado = clf.fit(Xo, yo)\n",
    "preclfOverGradient1enero = clfEntrenado.predict(data_testCopia)\n",
    "\n",
    "dfAux = pd.DataFrame({'id':data_test['id']})\n",
    "dfAux.set_index('id', inplace=True)\n",
    "dfFinal = pd.DataFrame({'id': data_test['id'], 'Precio_cat': preclfOverGradient1enero}, columns=['id', 'Precio_cat'])\n",
    "dfFinal.set_index('id', inplace=True)\n",
    "dfFinal.to_csv(\"./soluciones/GradientOverSamplingConRandomStateScoreLocal9084_OjalaScore080Kaggle.csv\")"
   ]
  },
  {
   "cell_type": "code",
   "execution_count": 17,
   "metadata": {},
   "outputs": [
    {
     "name": "stdout",
     "output_type": "stream",
     "text": [
      "{'learning_rate': 0.7, 'max_depth': 4, 'n_estimators': 70, 'num_leaves': 10}\n",
      "0.9059364933271974\n"
     ]
    }
   ],
   "source": [
    "parametros={\n",
    "    'max_depth':range(2,12,2),\n",
    "    'n_estimators':range(20,80,10),\n",
    "    'learning_rate': [0.25,0.3,0.5,0.7],\n",
    "    'num_leaves':range(2,12,2),\n",
    "}\n",
    "\n",
    "lgbm1 = lgb.LGBMClassifier(objective='binary', n_jobs=2, random_state=42)\n",
    "from sklearn.model_selection import GridSearchCV\n",
    "gsearch = GridSearchCV(lgbm1, param_grid=parametros, scoring='accuracy', n_jobs=-1, cv=5)\n",
    "\n",
    "gsearch.fit(Xo, yo)\n",
    "\n",
    "print(gsearch.best_params_)\n",
    "print(gsearch.best_score_)"
   ]
  },
  {
   "cell_type": "code",
   "execution_count": 23,
   "metadata": {},
   "outputs": [
    {
     "name": "stdout",
     "output_type": "stream",
     "text": [
      "Score Validacion Cruzada CON MODELO 90.59364933271974\n"
     ]
    }
   ],
   "source": [
    "lgbm1 = lgb.LGBMClassifier(learning_rate=0.7, \n",
    "                           objective='binary', n_estimators=70, n_jobs=2, num_leaves=10, max_depth=4, random_state=42)\n",
    "\n",
    "scores = cross_val_score(lgbm1, Xo, yo, cv=5, scoring='accuracy')\n",
    "print(\"Score Validacion Cruzada CON MODELO\", np.mean(scores)*100)\n",
    "\n",
    "lgbmEntrenado = lgbm1.fit(Xo, yo)\n",
    "preMamaJuanca = lgbmEntrenado.predict(data_testCopia)"
   ]
  },
  {
   "cell_type": "code",
   "execution_count": 10,
   "metadata": {},
   "outputs": [
    {
     "name": "stdout",
     "output_type": "stream",
     "text": [
      "{'learning_rate': 0.3, 'max_depth': 6, 'n_estimators': 70, 'num_leaves': 10}\n",
      "0.8316874272086962\n"
     ]
    }
   ],
   "source": [
    "parametros={\n",
    "    'max_depth':range(2,12,2),\n",
    "    'n_estimators':range(20,80,10),\n",
    "    'learning_rate': [0.25,0.3,0.5,0.7],\n",
    "    'num_leaves':range(2,12,2),\n",
    "}\n",
    "\n",
    "lgbm1 = lgb.LGBMClassifier(objective='binary', n_jobs=2)\n",
    "from sklearn.model_selection import GridSearchCV\n",
    "gsearch = GridSearchCV(lgbm1, param_grid=parametros, scoring='accuracy', n_jobs=-1, cv=5)\n",
    "\n",
    "gsearch.fit(data_trainCopia, target_train)\n",
    "\n",
    "print(gsearch.best_params_)\n",
    "print(gsearch.best_score_)"
   ]
  },
  {
   "cell_type": "code",
   "execution_count": 14,
   "metadata": {},
   "outputs": [
    {
     "name": "stdout",
     "output_type": "stream",
     "text": [
      "Score Validacion Cruzada CON MODELO 83.16874272086962\n"
     ]
    }
   ],
   "source": [
    "lgbm1 = lgb.LGBMClassifier(learning_rate=0.3, objective='multi:softmax', n_estimators=70, n_jobs=2, num_leaves=10, max_depth=6)\n",
    "\n",
    "scores = cross_val_score(lgbm1, data_trainCopia, target_train, cv=5, scoring='accuracy')\n",
    "print(\"Score Validacion Cruzada CON MODELO\", np.mean(scores)*100)\n",
    "\n",
    "lgbmEntrenado = lgbm1.fit(data_trainCopia, target_train)\n",
    "preMamaJuanca = lgbmEntrenado.predict(data_testCopia)\n",
    "\n",
    "dfAux = pd.DataFrame({'id':data_test['id']})\n",
    "dfAux.set_index('id', inplace=True)\n",
    "dfFinal = pd.DataFrame({'id': data_test['id'], 'Precio_cat': preMamaJuanca}, columns=['id', 'Precio_cat'])\n",
    "dfFinal.set_index('id', inplace=True)\n",
    "dfFinal.to_csv(\"./soluciones/LGBMClassifierConRandomStateScoreLocal8316_OjalaScore080Kaggle.csv\")"
   ]
  },
  {
   "cell_type": "code",
   "execution_count": 3,
   "metadata": {},
   "outputs": [],
   "source": [
    "from imblearn.over_sampling import SMOTE\n",
    "Xo, yo = SMOTE(random_state=42).fit_resample(data_trainCopia, target_train)"
   ]
  },
  {
   "cell_type": "code",
   "execution_count": 4,
   "metadata": {},
   "outputs": [
    {
     "name": "stdout",
     "output_type": "stream",
     "text": [
      "Score Validacion Cruzada 90.8973768982973\n"
     ]
    }
   ],
   "source": [
    "#ULTIMA PRUEBA\n",
    "\n",
    "clf = GradientBoostingClassifier(learning_rate=0.4, n_estimators=90, max_depth=5, random_state=42)\n",
    "\n",
    "scores = cross_val_score(clf, Xo, yo, cv=5, scoring='accuracy')\n",
    "print(\"Score Validacion Cruzada\", np.mean(scores)*100)\n",
    "\n",
    "clfEntrenado = clf.fit(Xo, yo)\n",
    "preclfOverGradient1enero = clfEntrenado.predict(data_testCopia)\n",
    "\n",
    "dfAux = pd.DataFrame({'id':data_test['id']})\n",
    "dfAux.set_index('id', inplace=True)\n",
    "dfFinal = pd.DataFrame({'id': data_test['id'], 'Precio_cat': preclfOverGradient1enero}, columns=['id', 'Precio_cat'])\n",
    "dfFinal.set_index('id', inplace=True)\n",
    "dfFinal.to_csv(\"./soluciones/basura.csv\")"
   ]
  },
  {
   "cell_type": "code",
   "execution_count": 5,
   "metadata": {},
   "outputs": [
    {
     "name": "stdout",
     "output_type": "stream",
     "text": [
      "Score Validacion Cruzada 90.84215370455591\n"
     ]
    }
   ],
   "source": [
    "#ESTO ME HA DICHO QUE ES LO QUE ME VA A SUBIR\n",
    "clf = GradientBoostingClassifier(learning_rate=0.5, n_estimators=70, max_depth=5, random_state=42)\n",
    "\n",
    "scores = cross_val_score(clf, Xo, yo, cv=5, scoring='accuracy')\n",
    "print(\"Score Validacion Cruzada\", np.mean(scores)*100)\n",
    "\n",
    "clfEntrenado = clf.fit(Xo, yo)\n",
    "preclfOverGradient1enero = clfEntrenado.predict(data_testCopia)"
   ]
  }
 ],
 "metadata": {
  "kernelspec": {
   "display_name": "Python 3",
   "language": "python",
   "name": "python3"
  },
  "language_info": {
   "codemirror_mode": {
    "name": "ipython",
    "version": 3
   },
   "file_extension": ".py",
   "mimetype": "text/x-python",
   "name": "python",
   "nbconvert_exporter": "python",
   "pygments_lexer": "ipython3",
   "version": "3.8.3"
  }
 },
 "nbformat": 4,
 "nbformat_minor": 4
}
