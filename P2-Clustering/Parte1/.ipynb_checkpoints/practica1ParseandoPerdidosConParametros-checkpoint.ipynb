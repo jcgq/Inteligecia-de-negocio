{
 "cells": [
  {
   "cell_type": "code",
   "execution_count": null,
   "metadata": {},
   "outputs": [],
   "source": [
    "#Todas las librerías para los distintos algoritmos\n",
    "from sklearn.naive_bayes import GaussianNB\n",
    "from sklearn.naive_bayes import ComplementNB\n",
    "from sklearn.naive_bayes import BernoulliNB\n",
    "from sklearn.naive_bayes import MultinomialNB\n",
    "from sklearn.calibration import CalibratedClassifierCV\n",
    "from sklearn.svm import LinearSVC\n",
    "from sklearn.svm import OneClassSVM\n",
    "from sklearn.svm import SVC\n",
    "from sklearn.svm import NuSVC\n",
    "from sklearn.ensemble import RandomForestClassifier\n",
    "from sklearn.neighbors import KNeighborsClassifier\n",
    "import matplotlib.pyplot as plt\n",
    "import sklearn.metrics as metrics\n",
    "from sklearn.neural_network import MLPClassifier\n",
    "from sklearn.ensemble import BaggingClassifier\n",
    "from sklearn import tree\n",
    "from statistics import mode\n",
    "from sklearn.svm import LinearSVC\n",
    "from sklearn.model_selection import cross_val_score\n",
    "from sklearn.model_selection import cross_val_predict\n",
    "import numpy as np\n",
    "from sklearn import impute\n",
    "import pandas as pd\n",
    "import numpy as np\n",
    "from sklearn.model_selection import train_test_split\n",
    "import seaborn as sns\n",
    "import matplotlib.pyplot as plt\n",
    "from sklearn import preprocessing as pp\n",
    "from sklearn.metrics import roc_auc_score\n",
    "from sklearn.metrics import f1_score\n",
    "from sklearn.metrics import recall_score\n",
    "from sklearn.metrics import confusion_matrix\n",
    " \n",
    "mamografias= pd.read_csv(\"./mamografias.csv\",na_values=[\"?\"])\n",
    "mamografias['Density']=mamografias['Density'].fillna(mode(mamografias['Density']))\n",
    "mamografias['BI-RADS']=mamografias['BI-RADS'].fillna(mode(mamografias['BI-RADS']))\n",
    "mamografias['Margin']=mamografias['Margin'].fillna(mode(mamografias['Margin']))\n",
    "mamografias['Age']=mamografias['Age'].fillna(mode(mamografias['Age']))\n",
    "mamografias['Shape']=mamografias['Shape'].fillna(mode(mamografias['Shape']))\n",
    "\n",
    "le = pp.LabelEncoder()\n",
    "columna_codificada=le.fit_transform(mamografias['Shape'])\n",
    "mamografias['Shape']=le.fit_transform(mamografias['Shape'])\n",
    "mamografias['Severity']=le.fit_transform(mamografias['Severity'])\n",
    "atributos=mamografias[['BI-RADS','Age','Shape','Margin','Density']]\n",
    "target=mamografias['Severity']\n",
    "data_train, data_test, target_train, target_test = train_test_split(atributos ,target, test_size = 0.8, random_state = 5)\n",
    "\n",
    "\n",
    "#Definición de la función de la matriz\n",
    "def matrizCruzada(prediccion):\n",
    "    m = confusion_matrix(target_test, prediccion, normalize=\"all\")\n",
    "    tn,fp,fn,tp=m.ravel();\n",
    "    print(\"TN \",tn*100)\n",
    "    print(\"FP \",fp*100)\n",
    "    print(\"FN \",fn*100)\n",
    "    print(\"TP \",tp*100)\n",
    "    print(\"FP-FN \",(fp-fn)*100)\n",
    "    print(\"---------------------------------\")\n",
    "    return m\n",
    "    \n",
    "def pintarROC(lista, datatest, targettest, nombre):\n",
    "    ax = plt.gca()\n",
    "    for i in lista:\n",
    "        metrics.plot_roc_curve(i, datatest, targettest, ax=ax) \n",
    "        plt.plot([0, 1], [0, 1],'r--')\n",
    "        plt.title('Receiver Operating Characteristic of ' + nombre)\n",
    "        plt.plot([0, 1], [0, 1],'r--')\n",
    "        plt.xlim([0, 1])\n",
    "        plt.ylim([0, 1])\n",
    "        plt.savefig('./EliminandoDatosConParametros/'+nombre+'.png')"
   ]
  },
  {
   "cell_type": "code",
   "execution_count": null,
   "metadata": {},
   "outputs": [],
   "source": [
    "#Primer algoritmo Nayve-Bayes\n",
    "\n",
    "#Nayve-Bayes Gaussian\n",
    "gnb = GaussianNB()\n",
    "modeloNBgau = gnb.fit(data_train, target_train)\n",
    "predNBgau = modeloNBgau.predict(data_test)\n",
    "\n",
    "\n",
    "#Nayve-Bayes Complement\n",
    "cnb = ComplementNB()\n",
    "modeloNBcom = cnb.fit(data_train, target_train)\n",
    "predNBcom = modeloNBcom.predict(data_test)\n",
    "\n",
    "\n",
    "\n",
    "#Nayve-Bayes Bernoulli\n",
    "bnb = BernoulliNB()\n",
    "modeloNBBer = bnb.fit(data_train, target_train)\n",
    "predNBber = modeloNBBer.predict(data_test)\n",
    "\n",
    "\n",
    "#Nayve-Bayes Multinominal\n",
    "mnb = MultinomialNB()\n",
    "modeloNBMul = mnb.fit(data_train, target_train)\n",
    "predNBmul = modeloNBMul.predict(data_test)\n",
    "\n",
    "\n",
    "lista = [modeloNBgau, modeloNBcom, modeloNBBer, modeloNBMul]\n",
    "pintarROC(lista, data_test, target_test, 'Nayve-Bayes')\n",
    "\n"
   ]
  },
  {
   "cell_type": "code",
   "execution_count": null,
   "metadata": {},
   "outputs": [],
   "source": [
    "#ÁRBOLES DE DECISIÓN"
   ]
  },
  {
   "cell_type": "code",
   "execution_count": null,
   "metadata": {},
   "outputs": [],
   "source": [
    "#Segundo algoritmo Árboles de decisión\n",
    "#Árbol de decisión normal\n",
    "arbNor = tree.DecisionTreeClassifier(random_state=2, max_depth=2)\n",
    "arbNor = arbNor.fit(data_train, target_train)\n",
    "predADnor = arbNor.predict(data_test)\n",
    "\n",
    "\n",
    "#Árbol de decisión extra\n",
    "arbEx = tree.ExtraTreeClassifier(random_state=4, max_depth=2)\n",
    "arbEx = arbEx.fit(data_train, target_train)\n",
    "predADex = arbEx.predict(data_test)\n",
    "\n",
    "lista = [arbNor, arbEx]\n",
    "pintarROC(lista, data_test, target_test, 'Decision Trees')\n"
   ]
  },
  {
   "cell_type": "code",
   "execution_count": null,
   "metadata": {},
   "outputs": [],
   "source": []
  },
  {
   "cell_type": "code",
   "execution_count": null,
   "metadata": {},
   "outputs": [],
   "source": [
    "tree.plot_tree(arbNor)"
   ]
  },
  {
   "cell_type": "code",
   "execution_count": null,
   "metadata": {},
   "outputs": [],
   "source": [
    "tree.plot_tree(arbEx)"
   ]
  },
  {
   "cell_type": "code",
   "execution_count": null,
   "metadata": {},
   "outputs": [],
   "source": []
  },
  {
   "cell_type": "code",
   "execution_count": null,
   "metadata": {},
   "outputs": [],
   "source": [
    "#Tercer algoritmo SUPPORT VECTOR MACHINE \n",
    "\n",
    "#SVM - NuSVC\n",
    "svm = NuSVC(random_state=10,max_iter=3000)\n",
    "#svr_nu = CalibratedClassifierCV(svm)\n",
    "svm.fit(data_train, target_train)\n",
    "predsvr_nu = svm.predict(data_test)\n",
    "\n",
    "#SVM - SVC\n",
    "svc = SVC(max_iter=3000)\n",
    "#svr_svc = CalibratedClassifierCV(svm)\n",
    "svc.fit(data_train, target_train)\n",
    "predsvr_svc = svc.predict(data_test)\n",
    "\n",
    "lista = [svm, svc]\n",
    "pintarROC(lista, data_test, target_test, 'SVM')\n"
   ]
  },
  {
   "cell_type": "markdown",
   "metadata": {},
   "source": [
    "from sklearn import tree\n",
    "clf2 = tree.DecisionTreeRegressor()\n",
    "clf2 = clf.fit(data_test, target_test)\n",
    "clf2.predict([0.,1.])\n",
    "array([0.5])"
   ]
  },
  {
   "cell_type": "code",
   "execution_count": null,
   "metadata": {},
   "outputs": [],
   "source": []
  },
  {
   "cell_type": "code",
   "execution_count": null,
   "metadata": {},
   "outputs": [],
   "source": [
    "#Cuarto algoritmo ENSEMBLED METHODS\n",
    "\n",
    "#Bagging meta-estimator\n",
    "\n",
    "bagging = BaggingClassifier(KNeighborsClassifier(), max_samples=0.5, max_features=0.5)\n",
    "modeloBa = bagging.fit(data_train, target_train)\n",
    "preBag = modeloBa.predict(data_test)\n",
    "\n",
    "\n",
    "#Random Forests\n",
    "forests = RandomForestClassifier(n_estimators=10, max_depth=None,min_samples_split=2, random_state=0)\n",
    "forests.fit(data_train, target_train)\n",
    "preFo = forests.predict(data_test)\n",
    "\n",
    "\n",
    "\n",
    "lista = [bagging, forests]\n",
    "pintarROC(lista, data_test, target_test, 'Ensembled Methods')"
   ]
  },
  {
   "cell_type": "code",
   "execution_count": null,
   "metadata": {},
   "outputs": [],
   "source": []
  },
  {
   "cell_type": "code",
   "execution_count": null,
   "metadata": {},
   "outputs": [],
   "source": [
    "#Quinto algoritmo Redes neuronales\n",
    "\n",
    "#MLPClassifier\n",
    "MLP = MLPClassifier(activation='tanh', max_iter=10000)\n",
    "modelMLP=MLP.fit(data_test, target_test)\n",
    "preMLP=modelMLP.predict(data_test)\n",
    "\n",
    "\n",
    "\n",
    "#KNC\n",
    "KNC = KNeighborsClassifier(n_neighbors= 2)\n",
    "modeloKNC = KNC.fit(data_test,target_test)\n",
    "preKNC=KNC.predict(data_test)\n",
    "\n",
    "\n",
    "lista = [modelMLP, modeloKNC]\n",
    "pintarROC(lista, data_test, target_test, 'Neural Networks')\n"
   ]
  },
  {
   "cell_type": "code",
   "execution_count": null,
   "metadata": {},
   "outputs": [],
   "source": [
    "lista = [modeloNBgau, arbEx, svm, modeloBa, modelMLP]\n",
    "pintarROC(lista, data_test, target_test, 'Global')"
   ]
  }
 ],
 "metadata": {
  "kernelspec": {
   "display_name": "Python 3",
   "language": "python",
   "name": "python3"
  },
  "language_info": {
   "codemirror_mode": {
    "name": "ipython",
    "version": 3
   },
   "file_extension": ".py",
   "mimetype": "text/x-python",
   "name": "python",
   "nbconvert_exporter": "python",
   "pygments_lexer": "ipython3",
   "version": "3.8.3"
  }
 },
 "nbformat": 4,
 "nbformat_minor": 4
}
